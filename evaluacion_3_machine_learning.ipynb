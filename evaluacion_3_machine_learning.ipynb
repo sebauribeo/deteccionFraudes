{
  "cells": [
    {
      "cell_type": "markdown",
      "metadata": {
        "id": "view-in-github",
        "colab_type": "text"
      },
      "source": [
        "<a href=\"https://colab.research.google.com/github/sebauribeo/deteccionFraudes/blob/master/evaluacion_3_machine_learning.ipynb\" target=\"_parent\"><img src=\"https://colab.research.google.com/assets/colab-badge.svg\" alt=\"Open In Colab\"/></a>"
      ]
    },
    {
      "cell_type": "markdown",
      "metadata": {
        "id": "s850I5QbUZ4V"
      },
      "source": [
        "# *1.- Importación de Librerías y Carga de Datos*"
      ]
    },
    {
      "cell_type": "markdown",
      "metadata": {
        "id": "6ObZbeJGzuTn"
      },
      "source": [
        "En esta sección, importamos todas las librerías necesarias para el análisis de datos, preprocesamiento, modelado y evaluación. También cargamos el conjunto de datos que utilizaremos para entrenar y probar nuestro modelo."
      ]
    },
    {
      "cell_type": "code",
      "execution_count": 1,
      "metadata": {
        "id": "ZyjBLvwaUaG5"
      },
      "outputs": [],
      "source": [
        "# Importación de librerías\n",
        "import pandas as pd\n",
        "import numpy as np\n",
        "import matplotlib.pyplot as plt\n",
        "import seaborn as sns\n",
        "\n",
        "# Librerías de preprocesamiento y modelado\n",
        "from sklearn.preprocessing import LabelEncoder, StandardScaler\n",
        "from sklearn.model_selection import train_test_split\n",
        "from sklearn.metrics import classification_report, confusion_matrix\n",
        "\n",
        "# Manejo del desbalance de clases\n",
        "from imblearn.over_sampling import SMOTE\n",
        "\n",
        "# Librerías de PyTorch\n",
        "import torch\n",
        "import torch.nn as nn\n",
        "from torch.utils.data import TensorDataset, DataLoader\n",
        "\n",
        "# Carga de datos\n",
        "data = pd.read_csv('/content/financial_dataset.csv')"
      ]
    },
    {
      "cell_type": "markdown",
      "metadata": {
        "id": "df1rkc4lUaUB"
      },
      "source": [
        "# *2.- Preprocesamiento de Datos*\n",
        "En esta sección, realizamos un análisis inicial de los datos, manejamos valores faltantes y codificamos variables categóricas. Creamos características adicionales que pueden ser útiles para el modelo y seleccionamos las características relevantes. Finalmente, estandarizamos los datos para prepararlos para el entrenamiento.\n",
        "## a.- Exploración Inicial"
      ]
    },
    {
      "cell_type": "code",
      "execution_count": 2,
      "metadata": {
        "id": "a7B-Im9AUacz",
        "colab": {
          "base_uri": "https://localhost:8080/",
          "height": 206
        },
        "outputId": "9b69f21b-460a-46b0-a451-80eb05867a1a"
      },
      "outputs": [
        {
          "output_type": "execute_result",
          "data": {
            "text/plain": [
              "   step      type    amount     nameOrig  oldbalanceOrg  newbalanceOrig  \\\n",
              "0     1   PAYMENT   9839.64  C1231006815       170136.0       160296.36   \n",
              "1     1   PAYMENT   1864.28  C1666544295        21249.0        19384.72   \n",
              "2     1  TRANSFER    181.00  C1305486145          181.0            0.00   \n",
              "3     1  CASH_OUT    181.00   C840083671          181.0            0.00   \n",
              "4     1   PAYMENT  11668.14  C2048537720        41554.0        29885.86   \n",
              "\n",
              "      nameDest  oldbalanceDest  newbalanceDest  isFraud  isFlaggedFraud  \n",
              "0  M1979787155             0.0             0.0      0.0             0.0  \n",
              "1  M2044282225             0.0             0.0      0.0             0.0  \n",
              "2   C553264065             0.0             0.0      1.0             0.0  \n",
              "3    C38997010         21182.0             0.0      1.0             0.0  \n",
              "4  M1230701703             0.0             0.0      0.0             0.0  "
            ],
            "text/html": [
              "\n",
              "  <div id=\"df-93b92fcc-7ebe-4e16-818f-2cac45d082ec\" class=\"colab-df-container\">\n",
              "    <div>\n",
              "<style scoped>\n",
              "    .dataframe tbody tr th:only-of-type {\n",
              "        vertical-align: middle;\n",
              "    }\n",
              "\n",
              "    .dataframe tbody tr th {\n",
              "        vertical-align: top;\n",
              "    }\n",
              "\n",
              "    .dataframe thead th {\n",
              "        text-align: right;\n",
              "    }\n",
              "</style>\n",
              "<table border=\"1\" class=\"dataframe\">\n",
              "  <thead>\n",
              "    <tr style=\"text-align: right;\">\n",
              "      <th></th>\n",
              "      <th>step</th>\n",
              "      <th>type</th>\n",
              "      <th>amount</th>\n",
              "      <th>nameOrig</th>\n",
              "      <th>oldbalanceOrg</th>\n",
              "      <th>newbalanceOrig</th>\n",
              "      <th>nameDest</th>\n",
              "      <th>oldbalanceDest</th>\n",
              "      <th>newbalanceDest</th>\n",
              "      <th>isFraud</th>\n",
              "      <th>isFlaggedFraud</th>\n",
              "    </tr>\n",
              "  </thead>\n",
              "  <tbody>\n",
              "    <tr>\n",
              "      <th>0</th>\n",
              "      <td>1</td>\n",
              "      <td>PAYMENT</td>\n",
              "      <td>9839.64</td>\n",
              "      <td>C1231006815</td>\n",
              "      <td>170136.0</td>\n",
              "      <td>160296.36</td>\n",
              "      <td>M1979787155</td>\n",
              "      <td>0.0</td>\n",
              "      <td>0.0</td>\n",
              "      <td>0.0</td>\n",
              "      <td>0.0</td>\n",
              "    </tr>\n",
              "    <tr>\n",
              "      <th>1</th>\n",
              "      <td>1</td>\n",
              "      <td>PAYMENT</td>\n",
              "      <td>1864.28</td>\n",
              "      <td>C1666544295</td>\n",
              "      <td>21249.0</td>\n",
              "      <td>19384.72</td>\n",
              "      <td>M2044282225</td>\n",
              "      <td>0.0</td>\n",
              "      <td>0.0</td>\n",
              "      <td>0.0</td>\n",
              "      <td>0.0</td>\n",
              "    </tr>\n",
              "    <tr>\n",
              "      <th>2</th>\n",
              "      <td>1</td>\n",
              "      <td>TRANSFER</td>\n",
              "      <td>181.00</td>\n",
              "      <td>C1305486145</td>\n",
              "      <td>181.0</td>\n",
              "      <td>0.00</td>\n",
              "      <td>C553264065</td>\n",
              "      <td>0.0</td>\n",
              "      <td>0.0</td>\n",
              "      <td>1.0</td>\n",
              "      <td>0.0</td>\n",
              "    </tr>\n",
              "    <tr>\n",
              "      <th>3</th>\n",
              "      <td>1</td>\n",
              "      <td>CASH_OUT</td>\n",
              "      <td>181.00</td>\n",
              "      <td>C840083671</td>\n",
              "      <td>181.0</td>\n",
              "      <td>0.00</td>\n",
              "      <td>C38997010</td>\n",
              "      <td>21182.0</td>\n",
              "      <td>0.0</td>\n",
              "      <td>1.0</td>\n",
              "      <td>0.0</td>\n",
              "    </tr>\n",
              "    <tr>\n",
              "      <th>4</th>\n",
              "      <td>1</td>\n",
              "      <td>PAYMENT</td>\n",
              "      <td>11668.14</td>\n",
              "      <td>C2048537720</td>\n",
              "      <td>41554.0</td>\n",
              "      <td>29885.86</td>\n",
              "      <td>M1230701703</td>\n",
              "      <td>0.0</td>\n",
              "      <td>0.0</td>\n",
              "      <td>0.0</td>\n",
              "      <td>0.0</td>\n",
              "    </tr>\n",
              "  </tbody>\n",
              "</table>\n",
              "</div>\n",
              "    <div class=\"colab-df-buttons\">\n",
              "\n",
              "  <div class=\"colab-df-container\">\n",
              "    <button class=\"colab-df-convert\" onclick=\"convertToInteractive('df-93b92fcc-7ebe-4e16-818f-2cac45d082ec')\"\n",
              "            title=\"Convert this dataframe to an interactive table.\"\n",
              "            style=\"display:none;\">\n",
              "\n",
              "  <svg xmlns=\"http://www.w3.org/2000/svg\" height=\"24px\" viewBox=\"0 -960 960 960\">\n",
              "    <path d=\"M120-120v-720h720v720H120Zm60-500h600v-160H180v160Zm220 220h160v-160H400v160Zm0 220h160v-160H400v160ZM180-400h160v-160H180v160Zm440 0h160v-160H620v160ZM180-180h160v-160H180v160Zm440 0h160v-160H620v160Z\"/>\n",
              "  </svg>\n",
              "    </button>\n",
              "\n",
              "  <style>\n",
              "    .colab-df-container {\n",
              "      display:flex;\n",
              "      gap: 12px;\n",
              "    }\n",
              "\n",
              "    .colab-df-convert {\n",
              "      background-color: #E8F0FE;\n",
              "      border: none;\n",
              "      border-radius: 50%;\n",
              "      cursor: pointer;\n",
              "      display: none;\n",
              "      fill: #1967D2;\n",
              "      height: 32px;\n",
              "      padding: 0 0 0 0;\n",
              "      width: 32px;\n",
              "    }\n",
              "\n",
              "    .colab-df-convert:hover {\n",
              "      background-color: #E2EBFA;\n",
              "      box-shadow: 0px 1px 2px rgba(60, 64, 67, 0.3), 0px 1px 3px 1px rgba(60, 64, 67, 0.15);\n",
              "      fill: #174EA6;\n",
              "    }\n",
              "\n",
              "    .colab-df-buttons div {\n",
              "      margin-bottom: 4px;\n",
              "    }\n",
              "\n",
              "    [theme=dark] .colab-df-convert {\n",
              "      background-color: #3B4455;\n",
              "      fill: #D2E3FC;\n",
              "    }\n",
              "\n",
              "    [theme=dark] .colab-df-convert:hover {\n",
              "      background-color: #434B5C;\n",
              "      box-shadow: 0px 1px 3px 1px rgba(0, 0, 0, 0.15);\n",
              "      filter: drop-shadow(0px 1px 2px rgba(0, 0, 0, 0.3));\n",
              "      fill: #FFFFFF;\n",
              "    }\n",
              "  </style>\n",
              "\n",
              "    <script>\n",
              "      const buttonEl =\n",
              "        document.querySelector('#df-93b92fcc-7ebe-4e16-818f-2cac45d082ec button.colab-df-convert');\n",
              "      buttonEl.style.display =\n",
              "        google.colab.kernel.accessAllowed ? 'block' : 'none';\n",
              "\n",
              "      async function convertToInteractive(key) {\n",
              "        const element = document.querySelector('#df-93b92fcc-7ebe-4e16-818f-2cac45d082ec');\n",
              "        const dataTable =\n",
              "          await google.colab.kernel.invokeFunction('convertToInteractive',\n",
              "                                                    [key], {});\n",
              "        if (!dataTable) return;\n",
              "\n",
              "        const docLinkHtml = 'Like what you see? Visit the ' +\n",
              "          '<a target=\"_blank\" href=https://colab.research.google.com/notebooks/data_table.ipynb>data table notebook</a>'\n",
              "          + ' to learn more about interactive tables.';\n",
              "        element.innerHTML = '';\n",
              "        dataTable['output_type'] = 'display_data';\n",
              "        await google.colab.output.renderOutput(dataTable, element);\n",
              "        const docLink = document.createElement('div');\n",
              "        docLink.innerHTML = docLinkHtml;\n",
              "        element.appendChild(docLink);\n",
              "      }\n",
              "    </script>\n",
              "  </div>\n",
              "\n",
              "\n",
              "<div id=\"df-86b2dc7c-0507-4a25-a606-7e8902d3f935\">\n",
              "  <button class=\"colab-df-quickchart\" onclick=\"quickchart('df-86b2dc7c-0507-4a25-a606-7e8902d3f935')\"\n",
              "            title=\"Suggest charts\"\n",
              "            style=\"display:none;\">\n",
              "\n",
              "<svg xmlns=\"http://www.w3.org/2000/svg\" height=\"24px\"viewBox=\"0 0 24 24\"\n",
              "     width=\"24px\">\n",
              "    <g>\n",
              "        <path d=\"M19 3H5c-1.1 0-2 .9-2 2v14c0 1.1.9 2 2 2h14c1.1 0 2-.9 2-2V5c0-1.1-.9-2-2-2zM9 17H7v-7h2v7zm4 0h-2V7h2v10zm4 0h-2v-4h2v4z\"/>\n",
              "    </g>\n",
              "</svg>\n",
              "  </button>\n",
              "\n",
              "<style>\n",
              "  .colab-df-quickchart {\n",
              "      --bg-color: #E8F0FE;\n",
              "      --fill-color: #1967D2;\n",
              "      --hover-bg-color: #E2EBFA;\n",
              "      --hover-fill-color: #174EA6;\n",
              "      --disabled-fill-color: #AAA;\n",
              "      --disabled-bg-color: #DDD;\n",
              "  }\n",
              "\n",
              "  [theme=dark] .colab-df-quickchart {\n",
              "      --bg-color: #3B4455;\n",
              "      --fill-color: #D2E3FC;\n",
              "      --hover-bg-color: #434B5C;\n",
              "      --hover-fill-color: #FFFFFF;\n",
              "      --disabled-bg-color: #3B4455;\n",
              "      --disabled-fill-color: #666;\n",
              "  }\n",
              "\n",
              "  .colab-df-quickchart {\n",
              "    background-color: var(--bg-color);\n",
              "    border: none;\n",
              "    border-radius: 50%;\n",
              "    cursor: pointer;\n",
              "    display: none;\n",
              "    fill: var(--fill-color);\n",
              "    height: 32px;\n",
              "    padding: 0;\n",
              "    width: 32px;\n",
              "  }\n",
              "\n",
              "  .colab-df-quickchart:hover {\n",
              "    background-color: var(--hover-bg-color);\n",
              "    box-shadow: 0 1px 2px rgba(60, 64, 67, 0.3), 0 1px 3px 1px rgba(60, 64, 67, 0.15);\n",
              "    fill: var(--button-hover-fill-color);\n",
              "  }\n",
              "\n",
              "  .colab-df-quickchart-complete:disabled,\n",
              "  .colab-df-quickchart-complete:disabled:hover {\n",
              "    background-color: var(--disabled-bg-color);\n",
              "    fill: var(--disabled-fill-color);\n",
              "    box-shadow: none;\n",
              "  }\n",
              "\n",
              "  .colab-df-spinner {\n",
              "    border: 2px solid var(--fill-color);\n",
              "    border-color: transparent;\n",
              "    border-bottom-color: var(--fill-color);\n",
              "    animation:\n",
              "      spin 1s steps(1) infinite;\n",
              "  }\n",
              "\n",
              "  @keyframes spin {\n",
              "    0% {\n",
              "      border-color: transparent;\n",
              "      border-bottom-color: var(--fill-color);\n",
              "      border-left-color: var(--fill-color);\n",
              "    }\n",
              "    20% {\n",
              "      border-color: transparent;\n",
              "      border-left-color: var(--fill-color);\n",
              "      border-top-color: var(--fill-color);\n",
              "    }\n",
              "    30% {\n",
              "      border-color: transparent;\n",
              "      border-left-color: var(--fill-color);\n",
              "      border-top-color: var(--fill-color);\n",
              "      border-right-color: var(--fill-color);\n",
              "    }\n",
              "    40% {\n",
              "      border-color: transparent;\n",
              "      border-right-color: var(--fill-color);\n",
              "      border-top-color: var(--fill-color);\n",
              "    }\n",
              "    60% {\n",
              "      border-color: transparent;\n",
              "      border-right-color: var(--fill-color);\n",
              "    }\n",
              "    80% {\n",
              "      border-color: transparent;\n",
              "      border-right-color: var(--fill-color);\n",
              "      border-bottom-color: var(--fill-color);\n",
              "    }\n",
              "    90% {\n",
              "      border-color: transparent;\n",
              "      border-bottom-color: var(--fill-color);\n",
              "    }\n",
              "  }\n",
              "</style>\n",
              "\n",
              "  <script>\n",
              "    async function quickchart(key) {\n",
              "      const quickchartButtonEl =\n",
              "        document.querySelector('#' + key + ' button');\n",
              "      quickchartButtonEl.disabled = true;  // To prevent multiple clicks.\n",
              "      quickchartButtonEl.classList.add('colab-df-spinner');\n",
              "      try {\n",
              "        const charts = await google.colab.kernel.invokeFunction(\n",
              "            'suggestCharts', [key], {});\n",
              "      } catch (error) {\n",
              "        console.error('Error during call to suggestCharts:', error);\n",
              "      }\n",
              "      quickchartButtonEl.classList.remove('colab-df-spinner');\n",
              "      quickchartButtonEl.classList.add('colab-df-quickchart-complete');\n",
              "    }\n",
              "    (() => {\n",
              "      let quickchartButtonEl =\n",
              "        document.querySelector('#df-86b2dc7c-0507-4a25-a606-7e8902d3f935 button');\n",
              "      quickchartButtonEl.style.display =\n",
              "        google.colab.kernel.accessAllowed ? 'block' : 'none';\n",
              "    })();\n",
              "  </script>\n",
              "</div>\n",
              "\n",
              "    </div>\n",
              "  </div>\n"
            ],
            "application/vnd.google.colaboratory.intrinsic+json": {
              "type": "dataframe",
              "variable_name": "data"
            }
          },
          "metadata": {},
          "execution_count": 2
        }
      ],
      "source": [
        "# Visualizar las primeras filas del dataset\n",
        "data.head()"
      ]
    },
    {
      "cell_type": "markdown",
      "metadata": {
        "id": "V61EkslOXVwD"
      },
      "source": [
        "## b.- Manejo de Valores Faltantes"
      ]
    },
    {
      "cell_type": "code",
      "execution_count": 3,
      "metadata": {
        "id": "yBiI0ysHXWE-",
        "colab": {
          "base_uri": "https://localhost:8080/"
        },
        "outputId": "0cf0d873-8f6e-401c-adf9-cdd242dd31db"
      },
      "outputs": [
        {
          "output_type": "stream",
          "name": "stdout",
          "text": [
            "Valores faltantes por columna:\n",
            "step              0\n",
            "type              0\n",
            "amount            0\n",
            "nameOrig          0\n",
            "oldbalanceOrg     0\n",
            "newbalanceOrig    1\n",
            "nameDest          1\n",
            "oldbalanceDest    1\n",
            "newbalanceDest    1\n",
            "isFraud           1\n",
            "isFlaggedFraud    1\n",
            "dtype: int64\n"
          ]
        }
      ],
      "source": [
        "# Verificar valores faltantes en cada columna\n",
        "print(\"Valores faltantes por columna:\")\n",
        "print(data.isnull().sum())\n",
        "\n",
        "# Eliminar filas con valores faltantes en 'isFraud'\n",
        "data = data.dropna(subset=['isFraud'])\n",
        "\n",
        "# Opcional: También podemos eliminar filas con valores faltantes en las características\n",
        "data = data.dropna()\n"
      ]
    },
    {
      "cell_type": "markdown",
      "metadata": {
        "id": "d19zWCeAUali"
      },
      "source": [
        "## c.- Codificación de Variables Categóricas"
      ]
    },
    {
      "cell_type": "code",
      "execution_count": 4,
      "metadata": {
        "id": "7kMEpBeBUas5"
      },
      "outputs": [],
      "source": [
        "# Crear una instancia de LabelEncoder para codificar variables categóricas\n",
        "label_encoder = LabelEncoder()\n",
        "\n",
        "# Codificar la columna 'type' y agregarla como una nueva columna 'type_encoded'\n",
        "data['type_encoded'] = label_encoder.fit_transform(data['type'])\n"
      ]
    },
    {
      "cell_type": "markdown",
      "metadata": {
        "id": "qTtEWp1pUa0g"
      },
      "source": [
        "## d.- Creación de Características Adicionales"
      ]
    },
    {
      "cell_type": "code",
      "execution_count": 5,
      "metadata": {
        "id": "L5Ap9GxBUa7g"
      },
      "outputs": [],
      "source": [
        "# Crear características adicionales basadas en los balances\n",
        "data['errorBalanceOrig'] = data['newbalanceOrig'] + data['amount'] - data['oldbalanceOrg']\n",
        "data['errorBalanceDest'] = data['oldbalanceDest'] + data['amount'] - data['newbalanceDest']"
      ]
    },
    {
      "cell_type": "markdown",
      "metadata": {
        "id": "s0vYOakEVty3"
      },
      "source": [
        "## e.- Selección de Características Relevantes"
      ]
    },
    {
      "cell_type": "code",
      "execution_count": 6,
      "metadata": {
        "id": "8m_uQMUVVt9y"
      },
      "outputs": [],
      "source": [
        "# Definir las características que se utilizarán para entrenar el modelo\n",
        "features = ['step', 'type_encoded', 'amount', 'oldbalanceOrg', 'newbalanceOrig',\n",
        "            'oldbalanceDest', 'newbalanceDest', 'errorBalanceOrig', 'errorBalanceDest']\n",
        "\n",
        "# Crear la matriz de características 'X' y el vector objetivo 'y'\n",
        "X = data[features]           # Características de entrada\n",
        "y = data['isFraud']          # Variable objetivo (0: no fraude, 1: fraude)"
      ]
    },
    {
      "cell_type": "markdown",
      "metadata": {
        "id": "efOUcz8sVuIn"
      },
      "source": [
        "## f.- Estandarización de Datos"
      ]
    },
    {
      "cell_type": "code",
      "execution_count": 7,
      "metadata": {
        "id": "so-5mqHFVuQa"
      },
      "outputs": [],
      "source": [
        "# Crear una instancia de StandardScaler para estandarizar las características\n",
        "scaler = StandardScaler()\n",
        "\n",
        "# Ajustar el escalador a los datos y transformar las características\n",
        "X_scaled = scaler.fit_transform(X)"
      ]
    },
    {
      "cell_type": "markdown",
      "metadata": {
        "id": "tAifpgcJVuXt"
      },
      "source": [
        "# *3. Análisis Exploratorio de Datos (EDA)*\n",
        "Realizamos un análisis exploratorio para entender mejor la distribución de las clases y visualizar posibles desequilibrios. Esto nos ayuda a decidir cómo manejar el desbalance de clases en las siguientes etapas.\n",
        "## a.-Distribución de Clases"
      ]
    },
    {
      "cell_type": "code",
      "execution_count": 8,
      "metadata": {
        "id": "v8WOAu4dVugD",
        "colab": {
          "base_uri": "https://localhost:8080/"
        },
        "outputId": "96cf8c54-fa9a-4182-e776-5af93377347c"
      },
      "outputs": [
        {
          "output_type": "stream",
          "name": "stdout",
          "text": [
            "isFraud\n",
            "0.0    790684\n",
            "1.0       458\n",
            "Name: count, dtype: int64\n"
          ]
        }
      ],
      "source": [
        "# Contar el número de transacciones fraudulentas y no fraudulentas\n",
        "fraud_counts = data['isFraud'].value_counts()\n",
        "print(fraud_counts)"
      ]
    },
    {
      "cell_type": "markdown",
      "metadata": {
        "id": "Qkfot4LlVuoQ"
      },
      "source": [
        "## b.- Visualización de la Distribución"
      ]
    },
    {
      "cell_type": "code",
      "execution_count": 9,
      "metadata": {
        "id": "pGy35DKAVuwK",
        "colab": {
          "base_uri": "https://localhost:8080/",
          "height": 472
        },
        "outputId": "a95fe3b0-c2aa-42e0-ea52-f49853fd1807"
      },
      "outputs": [
        {
          "output_type": "display_data",
          "data": {
            "text/plain": [
              "<Figure size 640x480 with 1 Axes>"
            ],
            "image/png": "[encoded data removed]"
          },
          "metadata": {}
        }
      ],
      "source": [
        "# Visualizar la distribución de transacciones fraudulentas\n",
        "sns.countplot(x='isFraud', data=data)\n",
        "plt.title('Distribución de Transacciones Fraudulentas vs No Fraudulentas')\n",
        "plt.show()"
      ]
    },
    {
      "cell_type": "markdown",
      "metadata": {
        "id": "vlcSN1XiVu5J"
      },
      "source": [
        "# *4.- Manejo del Desbalance de Clases*\n",
        "Debido a que las transacciones fraudulentas son significativamente menos frecuentes que las no fraudulentas, utilizamos la técnica SMOTE (Synthetic Minority Over-sampling Technique) para balancear las clases y mejorar la capacidad del modelo para detectar fraudes."
      ]
    },
    {
      "cell_type": "code",
      "execution_count": 10,
      "metadata": {
        "id": "UobV_-pmVvBH",
        "colab": {
          "base_uri": "https://localhost:8080/"
        },
        "outputId": "19cbf51f-f033-4257-da8b-2792af2a7c90"
      },
      "outputs": [
        {
          "output_type": "stream",
          "name": "stdout",
          "text": [
            "Valores faltantes en y: 0\n"
          ]
        }
      ],
      "source": [
        "# Verificar si hay valores faltantes en y antes de aplicar SMOTE\n",
        "print(\"Valores faltantes en y:\", y.isnull().sum())\n",
        "\n",
        "# Asegurarnos de que y no contenga valores faltantes\n",
        "y = y.fillna(0)\n",
        "\n",
        "# Crear una instancia de SMOTE para el sobremuestreo de la clase minoritaria\n",
        "smote = SMOTE(random_state=42)\n",
        "\n",
        "# Aplicar SMOTE para generar nuevas muestras sintéticas y balancear las clases\n",
        "X_resampled, y_resampled = smote.fit_resample(X_scaled, y)"
      ]
    },
    {
      "cell_type": "markdown",
      "metadata": {
        "id": "-XZ8NW5JVvL1"
      },
      "source": [
        "# *5.- División del Conjunto de Datos*\n",
        "Dividimos el conjunto de datos balanceado en conjuntos de entrenamiento y prueba. Esto nos permite entrenar el modelo en un subconjunto de los datos y luego evaluar su rendimiento en datos no vistos."
      ]
    },
    {
      "cell_type": "code",
      "execution_count": 11,
      "metadata": {
        "id": "SQpfRRfHVvUx"
      },
      "outputs": [],
      "source": [
        "# Dividir los datos en conjuntos de entrenamiento y prueba (80% entrenamiento, 20% prueba)\n",
        "X_train, X_test, y_train, y_test = train_test_split(\n",
        "    X_resampled, y_resampled,           # Datos de entrada y objetivo balanceados\n",
        "    test_size=0.2,                      # Proporción del conjunto de prueba (20%)\n",
        "    random_state=42,                    # Semilla para reproducibilidad\n",
        "    stratify=y_resampled                # Mantener la proporción de clases en la división\n",
        ")"
      ]
    },
    {
      "cell_type": "markdown",
      "metadata": {
        "id": "J-40FBfvVvdH"
      },
      "source": [
        "# *6.- Conversión a Tensores y Creación de DataLoaders*\n",
        "Convertimos los conjuntos de datos en tensores de PyTorch y creamos DataLoaders para facilitar el proceso de entrenamiento en lotes (batches). Los DataLoaders permiten iterar sobre los datos en mini-lotes durante el entrenamiento."
      ]
    },
    {
      "cell_type": "code",
      "execution_count": 12,
      "metadata": {
        "id": "k3tCFZMyVvly"
      },
      "outputs": [],
      "source": [
        "# Convertir los datos de entrenamiento a tensores de tipo float32\n",
        "X_train_tensor = torch.tensor(X_train, dtype=torch.float32)\n",
        "y_train_tensor = torch.tensor(y_train.values, dtype=torch.float32)\n",
        "\n",
        "# Convertir los datos de prueba a tensores\n",
        "X_test_tensor = torch.tensor(X_test, dtype=torch.float32)\n",
        "y_test_tensor = torch.tensor(y_test.values, dtype=torch.float32)\n",
        "\n",
        "# Crear datasets de PyTorch a partir de los tensores\n",
        "train_dataset = TensorDataset(X_train_tensor, y_train_tensor)\n",
        "test_dataset = TensorDataset(X_test_tensor, y_test_tensor)\n",
        "\n",
        "# Definir el tamaño del lote (batch size)\n",
        "batch_size = 64\n",
        "\n",
        "# Crear DataLoaders para cargar los datos en mini-lotes durante el entrenamiento\n",
        "train_loader = DataLoader(train_dataset, batch_size=batch_size, shuffle=True)\n",
        "test_loader = DataLoader(test_dataset, batch_size=batch_size, shuffle=False)"
      ]
    },
    {
      "cell_type": "markdown",
      "metadata": {
        "id": "uPei05HTVv-N"
      },
      "source": [
        "# *7.- Definición del Modelo con PyTorch*\n",
        "Definimos la arquitectura de la red neuronal utilizando PyTorch. El modelo consiste en una red neuronal profunda con varias capas lineales, funciones de activación ReLU y capas de Dropout para prevenir el sobreajuste.\n",
        "## a.- Arquitectura del Modelo"
      ]
    },
    {
      "cell_type": "code",
      "execution_count": 13,
      "metadata": {
        "id": "-pAu41ufVwHM"
      },
      "outputs": [],
      "source": [
        "# Definir una clase para el modelo de detección de fraudes\n",
        "class FraudDetectionModel(nn.Module):\n",
        "    def __init__(self):\n",
        "        super(FraudDetectionModel, self).__init__()  # Inicializar la clase padre\n",
        "        # Definir la arquitectura de la red neuronal\n",
        "        self.model = nn.Sequential(\n",
        "            nn.Linear(X_train.shape[1], 64),  # Capa de entrada a primera capa oculta con 64 neuronas\n",
        "            nn.ReLU(),                        # Función de activación ReLU\n",
        "            nn.Dropout(0.2),                  # Capa de Dropout con probabilidad de 0.2\n",
        "            nn.Linear(64, 32),                # Primera a segunda capa oculta con 32 neuronas\n",
        "            nn.ReLU(),                        # Función de activación ReLU\n",
        "            nn.Dropout(0.2),                  # Capa de Dropout\n",
        "            nn.Linear(32, 1),                 # Segunda capa oculta a capa de salida con 1 neurona\n",
        "            nn.Sigmoid()                      # Función de activación Sigmoide para salida binaria\n",
        "        )\n",
        "\n",
        "    def forward(self, x):\n",
        "        # Definir el paso hacia adelante (forward) del modelo\n",
        "        return self.model(x)"
      ]
    },
    {
      "cell_type": "markdown",
      "metadata": {
        "id": "p_xe87oJYpdI"
      },
      "source": [
        "## b.- Inicialización del Modelo, Pérdida y Optimizador"
      ]
    },
    {
      "cell_type": "code",
      "execution_count": 14,
      "metadata": {
        "id": "4QDxdskIYpk_"
      },
      "outputs": [],
      "source": [
        "# Crear una instancia del modelo\n",
        "model = FraudDetectionModel()\n",
        "\n",
        "# Definir la función de pérdida (Binary Cross-Entropy Loss para clasificación binaria)\n",
        "criterion = nn.BCELoss()\n",
        "\n",
        "# Definir el optimizador (Adam) y la tasa de aprendizaje\n",
        "optimizer = torch.optim.Adam(model.parameters(), lr=0.001)"
      ]
    },
    {
      "cell_type": "markdown",
      "metadata": {
        "id": "1VPVYo-dYptc"
      },
      "source": [
        "# *8.- Entrenamiento del Modelo*\n",
        "Entrenamos el modelo en el conjunto de entrenamiento durante varias épocas. En cada época, el modelo ajusta sus pesos para minimizar la función de pérdida. También evaluamos el modelo en el conjunto de prueba después de cada época para monitorear su rendimiento."
      ]
    },
    {
      "cell_type": "code",
      "execution_count": 15,
      "metadata": {
        "id": "YCHZhAOQYp2B",
        "colab": {
          "base_uri": "https://localhost:8080/"
        },
        "outputId": "fa237568-a10b-4bb2-ed9b-97230fea1f2e"
      },
      "outputs": [
        {
          "output_type": "stream",
          "name": "stdout",
          "text": [
            "Época [1/10], Pérdida de Entrenamiento: 0.1147, Pérdida de Prueba: 0.0696\n",
            "Época [2/10], Pérdida de Entrenamiento: 0.0786, Pérdida de Prueba: 0.0594\n",
            "Época [3/10], Pérdida de Entrenamiento: 0.0721, Pérdida de Prueba: 0.0552\n",
            "Época [4/10], Pérdida de Entrenamiento: 0.0690, Pérdida de Prueba: 0.0551\n",
            "Época [5/10], Pérdida de Entrenamiento: 0.0666, Pérdida de Prueba: 0.0489\n",
            "Época [6/10], Pérdida de Entrenamiento: 0.0658, Pérdida de Prueba: 0.0533\n",
            "Época [7/10], Pérdida de Entrenamiento: 0.0642, Pérdida de Prueba: 0.0446\n",
            "Época [8/10], Pérdida de Entrenamiento: 0.0634, Pérdida de Prueba: 0.0460\n",
            "Época [9/10], Pérdida de Entrenamiento: 0.0623, Pérdida de Prueba: 0.0548\n",
            "Época [10/10], Pérdida de Entrenamiento: 0.0613, Pérdida de Prueba: 0.0439\n"
          ]
        }
      ],
      "source": [
        "# Definir el número de épocas para el entrenamiento\n",
        "num_epochs = 10\n",
        "\n",
        "# Listas para almacenar las pérdidas de entrenamiento y prueba en cada época\n",
        "train_losses = []\n",
        "test_losses = []\n",
        "\n",
        "# Ciclo de entrenamiento a través de las épocas\n",
        "for epoch in range(num_epochs):\n",
        "    model.train()  # Establecer el modo de entrenamiento\n",
        "    running_loss = 0.0  # Inicializar la pérdida acumulada de entrenamiento\n",
        "    for features, labels in train_loader:\n",
        "        # Paso hacia adelante: calcular las predicciones del modelo\n",
        "        outputs = model(features)\n",
        "        # Calcular la pérdida entre las predicciones y las etiquetas reales\n",
        "        loss = criterion(outputs.view(-1), labels)\n",
        "\n",
        "        # Paso hacia atrás: inicializar los gradientes y realizar backpropagation\n",
        "        optimizer.zero_grad()  # Limpiar los gradientes previos\n",
        "        loss.backward()        # Calcular gradientes\n",
        "        optimizer.step()       # Actualizar los pesos del modelo\n",
        "\n",
        "        # Acumular la pérdida de entrenamiento\n",
        "        running_loss += loss.item()\n",
        "\n",
        "    # Calcular la pérdida promedio de entrenamiento en la época actual\n",
        "    epoch_loss = running_loss / len(train_loader)\n",
        "    train_losses.append(epoch_loss)  # Guardar la pérdida de entrenamiento\n",
        "\n",
        "    # Evaluación del modelo en el conjunto de prueba\n",
        "    model.eval()  # Establecer el modo de evaluación\n",
        "    test_loss = 0.0  # Inicializar la pérdida acumulada de prueba\n",
        "    with torch.no_grad():  # Desactivar el cálculo de gradientes\n",
        "        for features, labels in test_loader:\n",
        "            outputs = model(features)  # Obtener las predicciones\n",
        "            loss = criterion(outputs.view(-1), labels)  # Calcular la pérdida\n",
        "            test_loss += loss.item()  # Acumular la pérdida de prueba\n",
        "    # Calcular la pérdida promedio de prueba en la época actual\n",
        "    test_loss = test_loss / len(test_loader)\n",
        "    test_losses.append(test_loss)  # Guardar la pérdida de prueba\n",
        "\n",
        "    # Imprimir las pérdidas de entrenamiento y prueba para la época actual\n",
        "    print(f\"Época [{epoch+1}/{num_epochs}], Pérdida de Entrenamiento: {epoch_loss:.4f}, Pérdida de Prueba: {test_loss:.4f}\")"
      ]
    },
    {
      "cell_type": "markdown",
      "metadata": {
        "id": "iquryGPWYp_J"
      },
      "source": [
        "# *9. Evaluación del Modelo*\n",
        "Después del entrenamiento, evaluamos el rendimiento del modelo en el conjunto de prueba utilizando métricas como el reporte de clasificación y la matriz de confusión. Esto nos permite entender la precisión, recall y otras métricas importantes.\n",
        "## a.- Predicciones y Métricas de Rendimiento"
      ]
    },
    {
      "cell_type": "code",
      "execution_count": 16,
      "metadata": {
        "id": "8EePI4eGYqGl",
        "colab": {
          "base_uri": "https://localhost:8080/"
        },
        "outputId": "86efeb4a-c317-4c21-8471-61e0578ab7fb"
      },
      "outputs": [
        {
          "output_type": "stream",
          "name": "stdout",
          "text": [
            "              precision    recall  f1-score   support\n",
            "\n",
            "         0.0       0.98      0.98      0.98    158137\n",
            "         1.0       0.98      0.98      0.98    158137\n",
            "\n",
            "    accuracy                           0.98    316274\n",
            "   macro avg       0.98      0.98      0.98    316274\n",
            "weighted avg       0.98      0.98      0.98    316274\n",
            "\n"
          ]
        }
      ],
      "source": [
        "# Establecer el modo de evaluación\n",
        "model.eval()\n",
        "\n",
        "# Listas para almacenar todas las predicciones y etiquetas reales\n",
        "all_preds = []\n",
        "all_labels = []\n",
        "\n",
        "# Desactivar el cálculo de gradientes durante la evaluación\n",
        "with torch.no_grad():\n",
        "    for features, labels in test_loader:\n",
        "        outputs = model(features)  # Obtener las predicciones del modelo\n",
        "        # Convertir las salidas en clases predichas (0 o 1) usando un umbral de 0.5\n",
        "        preds = (outputs.view(-1) > 0.5).float()\n",
        "        # Almacenar las predicciones y etiquetas reales\n",
        "        all_preds.extend(preds.numpy())\n",
        "        all_labels.extend(labels.numpy())\n",
        "\n",
        "# Generar el reporte de clasificación\n",
        "print(classification_report(all_labels, all_preds))"
      ]
    },
    {
      "cell_type": "markdown",
      "metadata": {
        "id": "2aDSME6ZYqOf"
      },
      "source": [
        "# *10. Optimización de Recursos Computacionales*\n",
        "A continuación, se presenta la sección final del script que realiza el entrenamiento del modelo tanto en CPU como en GPU dentro del mismo script. El entrenamiento se realiza con 10 épocas y se muestra una comparación del tiempo de entrenamiento y el rendimiento del modelo en ambos casos.\n",
        "## a.- Entrenamiento en CPU"
      ]
    },
    {
      "cell_type": "code",
      "execution_count": 17,
      "metadata": {
        "id": "zsUSgSWeYqWU",
        "colab": {
          "base_uri": "https://localhost:8080/"
        },
        "outputId": "9549b469-d84b-472a-d6c8-0515c17a23b2"
      },
      "outputs": [
        {
          "output_type": "stream",
          "name": "stdout",
          "text": [
            "Entrenando en dispositivo: cpu\n",
            "[CPU] Época [1/10], Pérdida de Entrenamiento: 0.1196, Pérdida de Prueba: 0.0781\n",
            "[CPU] Época [2/10], Pérdida de Entrenamiento: 0.0839, Pérdida de Prueba: 0.0625\n",
            "[CPU] Época [3/10], Pérdida de Entrenamiento: 0.0764, Pérdida de Prueba: 0.0575\n",
            "[CPU] Época [4/10], Pérdida de Entrenamiento: 0.0733, Pérdida de Prueba: 0.0566\n",
            "[CPU] Época [5/10], Pérdida de Entrenamiento: 0.0706, Pérdida de Prueba: 0.0533\n",
            "[CPU] Época [6/10], Pérdida de Entrenamiento: 0.0691, Pérdida de Prueba: 0.0571\n",
            "[CPU] Época [7/10], Pérdida de Entrenamiento: 0.0675, Pérdida de Prueba: 0.0485\n",
            "[CPU] Época [8/10], Pérdida de Entrenamiento: 0.0668, Pérdida de Prueba: 0.0501\n",
            "[CPU] Época [9/10], Pérdida de Entrenamiento: 0.0656, Pérdida de Prueba: 0.0452\n",
            "[CPU] Época [10/10], Pérdida de Entrenamiento: 0.0645, Pérdida de Prueba: 0.0454\n",
            "Tiempo total de entrenamiento en CPU: 466.95 segundos\n"
          ]
        }
      ],
      "source": [
        "import time  # Importar el módulo time para medir el tiempo\n",
        "\n",
        "num_epochs = 10  # Definir el número de épocas para ambos entrenamientos\n",
        "\n",
        "# Definir el dispositivo CPU\n",
        "device_cpu = torch.device('cpu')\n",
        "print(f'Entrenando en dispositivo: {device_cpu}')\n",
        "\n",
        "# Crear una nueva instancia del modelo y moverla al dispositivo CPU\n",
        "model_cpu = FraudDetectionModel()\n",
        "model_cpu.to(device_cpu)\n",
        "\n",
        "# Actualizar los tensores de datos al dispositivo CPU\n",
        "X_train_tensor_cpu = X_train_tensor.to(device_cpu)\n",
        "y_train_tensor_cpu = y_train_tensor.to(device_cpu)\n",
        "X_test_tensor_cpu = X_test_tensor.to(device_cpu)\n",
        "y_test_tensor_cpu = y_test_tensor.to(device_cpu)\n",
        "\n",
        "# Actualizar los datasets y DataLoaders para CPU\n",
        "train_dataset_cpu = TensorDataset(X_train_tensor_cpu, y_train_tensor_cpu)\n",
        "test_dataset_cpu = TensorDataset(X_test_tensor_cpu, y_test_tensor_cpu)\n",
        "\n",
        "train_loader_cpu = DataLoader(train_dataset_cpu, batch_size=batch_size, shuffle=True)\n",
        "test_loader_cpu = DataLoader(test_dataset_cpu, batch_size=batch_size, shuffle=False)\n",
        "\n",
        "# Definir la función de pérdida y optimizador para el modelo en CPU\n",
        "criterion_cpu = nn.BCELoss()\n",
        "optimizer_cpu = torch.optim.Adam(model_cpu.parameters(), lr=0.001)\n",
        "\n",
        "# Medir el tiempo de entrenamiento en CPU\n",
        "start_time_cpu = time.time()\n",
        "\n",
        "for epoch in range(num_epochs):\n",
        "    model_cpu.train()\n",
        "    running_loss = 0.0\n",
        "    for features, labels in train_loader_cpu:\n",
        "        # Adelante\n",
        "        outputs = model_cpu(features)\n",
        "        loss = criterion_cpu(outputs.view(-1), labels)\n",
        "\n",
        "        # Atrás\n",
        "        optimizer_cpu.zero_grad()\n",
        "        loss.backward()\n",
        "        optimizer_cpu.step()\n",
        "\n",
        "        running_loss += loss.item()\n",
        "\n",
        "    epoch_loss = running_loss / len(train_loader_cpu)\n",
        "\n",
        "    # Evaluación en conjunto de prueba\n",
        "    model_cpu.eval()\n",
        "    test_loss = 0.0\n",
        "    with torch.no_grad():\n",
        "        for features, labels in test_loader_cpu:\n",
        "            outputs = model_cpu(features)\n",
        "            loss = criterion_cpu(outputs.view(-1), labels)\n",
        "            test_loss += loss.item()\n",
        "    test_loss = test_loss / len(test_loader_cpu)\n",
        "\n",
        "    print(f\"[CPU] Época [{epoch+1}/{num_epochs}], Pérdida de Entrenamiento: {epoch_loss:.4f}, Pérdida de Prueba: {test_loss:.4f}\")\n",
        "\n",
        "end_time_cpu = time.time()\n",
        "total_time_cpu = end_time_cpu - start_time_cpu\n",
        "print(f\"Tiempo total de entrenamiento en CPU: {total_time_cpu:.2f} segundos\")"
      ]
    },
    {
      "cell_type": "markdown",
      "source": [
        "## b.- Entrenamiento en GPU(cuda)"
      ],
      "metadata": {
        "id": "5PyvCR2Hdb5V"
      }
    },
    {
      "cell_type": "code",
      "source": [
        "# Verificar si CUDA está disponible\n",
        "if torch.cuda.is_available():\n",
        "    device_gpu = torch.device('cuda')\n",
        "    print(f'\\nEntrenando en dispositivo: {device_gpu}')\n",
        "\n",
        "    # Crear una nueva instancia del modelo y moverla al dispositivo GPU\n",
        "    model_gpu = FraudDetectionModel()\n",
        "    model_gpu.to(device_gpu)\n",
        "\n",
        "    # Actualizar los tensores de datos al dispositivo GPU\n",
        "    X_train_tensor_gpu = X_train_tensor.to(device_gpu)\n",
        "    y_train_tensor_gpu = y_train_tensor.to(device_gpu)\n",
        "    X_test_tensor_gpu = X_test_tensor.to(device_gpu)\n",
        "    y_test_tensor_gpu = y_test_tensor.to(device_gpu)\n",
        "\n",
        "    # Actualizar los datasets y DataLoaders para GPU\n",
        "    train_dataset_gpu = TensorDataset(X_train_tensor_gpu, y_train_tensor_gpu)\n",
        "    test_dataset_gpu = TensorDataset(X_test_tensor_gpu, y_test_tensor_gpu)\n",
        "\n",
        "    train_loader_gpu = DataLoader(train_dataset_gpu, batch_size=batch_size, shuffle=True)\n",
        "    test_loader_gpu = DataLoader(test_dataset_gpu, batch_size=batch_size, shuffle=False)\n",
        "\n",
        "    # Definir la función de pérdida y optimizador para el modelo en GPU\n",
        "    criterion_gpu = nn.BCELoss()\n",
        "    optimizer_gpu = torch.optim.Adam(model_gpu.parameters(), lr=0.001)\n",
        "\n",
        "    # Medir el tiempo de entrenamiento en GPU\n",
        "    start_time_gpu = time.time()\n",
        "\n",
        "    for epoch in range(num_epochs):\n",
        "        model_gpu.train()\n",
        "        running_loss = 0.0\n",
        "        for features, labels in train_loader_gpu:\n",
        "            # Mover los datos al dispositivo GPU\n",
        "            features = features.to(device_gpu)\n",
        "            labels = labels.to(device_gpu)\n",
        "\n",
        "            # Adelante\n",
        "            outputs = model_gpu(features)\n",
        "            loss = criterion_gpu(outputs.view(-1), labels)\n",
        "\n",
        "            # Atrás\n",
        "            optimizer_gpu.zero_grad()\n",
        "            loss.backward()\n",
        "            optimizer_gpu.step()\n",
        "\n",
        "            running_loss += loss.item()\n",
        "\n",
        "        epoch_loss = running_loss / len(train_loader_gpu)\n",
        "\n",
        "        # Evaluación en conjunto de prueba\n",
        "        model_gpu.eval()\n",
        "        test_loss = 0.0\n",
        "        with torch.no_grad():\n",
        "            for features, labels in test_loader_gpu:\n",
        "                features = features.to(device_gpu)\n",
        "                labels = labels.to(device_gpu)\n",
        "                outputs = model_gpu(features)\n",
        "                loss = criterion_gpu(outputs.view(-1), labels)\n",
        "                test_loss += loss.item()\n",
        "        test_loss = test_loss / len(test_loader_gpu)\n",
        "\n",
        "        print(f\"[GPU] Época [{epoch+1}/{num_epochs}], Pérdida de Entrenamiento: {epoch_loss:.4f}, Pérdida de Prueba: {test_loss:.4f}\")\n",
        "\n",
        "    end_time_gpu = time.time()\n",
        "    total_time_gpu = end_time_gpu - start_time_gpu\n",
        "    print(f\"Tiempo total de entrenamiento en GPU: {total_time_gpu:.2f} segundos\")\n",
        "else:\n",
        "    print(\"\\nGPU no está disponible.\")\n",
        "    total_time_gpu = None"
      ],
      "metadata": {
        "colab": {
          "base_uri": "https://localhost:8080/"
        },
        "id": "pgSvUcrudcBy",
        "outputId": "c17959b7-f5fb-4fed-f110-865f65794b24"
      },
      "execution_count": 18,
      "outputs": [
        {
          "output_type": "stream",
          "name": "stdout",
          "text": [
            "\n",
            "Entrenando en dispositivo: cuda\n",
            "[GPU] Época [1/10], Pérdida de Entrenamiento: 0.1150, Pérdida de Prueba: 0.0784\n",
            "[GPU] Época [2/10], Pérdida de Entrenamiento: 0.0812, Pérdida de Prueba: 0.0601\n",
            "[GPU] Época [3/10], Pérdida de Entrenamiento: 0.0743, Pérdida de Prueba: 0.0585\n",
            "[GPU] Época [4/10], Pérdida de Entrenamiento: 0.0711, Pérdida de Prueba: 0.0551\n",
            "[GPU] Época [5/10], Pérdida de Entrenamiento: 0.0678, Pérdida de Prueba: 0.0521\n",
            "[GPU] Época [6/10], Pérdida de Entrenamiento: 0.0665, Pérdida de Prueba: 0.0515\n",
            "[GPU] Época [7/10], Pérdida de Entrenamiento: 0.0646, Pérdida de Prueba: 0.0482\n",
            "[GPU] Época [8/10], Pérdida de Entrenamiento: 0.0632, Pérdida de Prueba: 0.0461\n",
            "[GPU] Época [9/10], Pérdida de Entrenamiento: 0.0620, Pérdida de Prueba: 0.0522\n",
            "[GPU] Época [10/10], Pérdida de Entrenamiento: 0.0612, Pérdida de Prueba: 0.0457\n",
            "Tiempo total de entrenamiento en GPU: 498.31 segundos\n"
          ]
        }
      ]
    },
    {
      "cell_type": "markdown",
      "source": [
        "## c.- Comparación de Resultados"
      ],
      "metadata": {
        "id": "kuFlaMtXdcK1"
      }
    },
    {
      "cell_type": "code",
      "source": [
        "# Verificar si se entrenó en GPU y mostrar la comparación\n",
        "if total_time_gpu is not None:\n",
        "    print(\"\\nComparación del tiempo de entrenamiento:\")\n",
        "    print(f\"Tiempo en CPU: {total_time_cpu:.2f} segundos\")\n",
        "    print(f\"Tiempo en GPU: {total_time_gpu:.2f} segundos\")\n",
        "\n",
        "    tiempo_reduccion = total_time_cpu - total_time_gpu\n",
        "    porcentaje_reduccion = (tiempo_reduccion / total_time_cpu) * 100\n",
        "    print(f\"La GPU redujo el tiempo de entrenamiento en {tiempo_reduccion:.2f} segundos ({porcentaje_reduccion:.2f}%).\")\n",
        "else:\n",
        "    print(\"\\nNo se puede realizar la comparación ya que la GPU no está disponible.\")"
      ],
      "metadata": {
        "colab": {
          "base_uri": "https://localhost:8080/"
        },
        "id": "grcSBahJdcUi",
        "outputId": "95aed10d-05e9-4780-885f-0fa21e53cc41"
      },
      "execution_count": 19,
      "outputs": [
        {
          "output_type": "stream",
          "name": "stdout",
          "text": [
            "\n",
            "Comparación del tiempo de entrenamiento:\n",
            "Tiempo en CPU: 466.95 segundos\n",
            "Tiempo en GPU: 498.31 segundos\n",
            "La GPU redujo el tiempo de entrenamiento en -31.36 segundos (-6.72%).\n"
          ]
        }
      ]
    }
  ],
  "metadata": {
    "colab": {
      "provenance": [],
      "gpuType": "T4",
      "toc_visible": true,
      "authorship_tag": "ABX9TyN7YDuvzTYs5b1W6BZdovTS",
      "include_colab_link": true
    },
    "kernelspec": {
      "display_name": "Python 3",
      "name": "python3"
    },
    "language_info": {
      "name": "python"
    },
    "accelerator": "GPU"
  },
  "nbformat": 4,
  "nbformat_minor": 0
}