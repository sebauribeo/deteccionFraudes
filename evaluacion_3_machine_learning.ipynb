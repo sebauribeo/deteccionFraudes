{
  "cells": [
    {
      "cell_type": "markdown",
      "metadata": {
        "id": "view-in-github",
        "colab_type": "text"
      },
      "source": [
        "<a href=\"https://colab.research.google.com/github/sebauribeo/deteccionFraudes/blob/Staging/evaluacion_3_machine_learning.ipynb\" target=\"_parent\"><img src=\"https://colab.research.google.com/assets/colab-badge.svg\" alt=\"Open In Colab\"/></a>"
      ]
    },
    {
      "cell_type": "markdown",
      "metadata": {
        "id": "s850I5QbUZ4V"
      },
      "source": [
        "# *1.- Importación de Librerías y Carga de Datos*"
      ]
    },
    {
      "cell_type": "markdown",
      "metadata": {
        "id": "6ObZbeJGzuTn"
      },
      "source": [
        "En esta sección, importamos todas las librerías necesarias para el análisis de datos, preprocesamiento, modelado y evaluación. También cargamos el conjunto de datos que utilizaremos para entrenar y probar nuestro modelo."
      ]
    },
    {
      "cell_type": "code",
      "execution_count": 1,
      "metadata": {
        "id": "ZyjBLvwaUaG5",
        "colab": {
          "base_uri": "https://localhost:8080/"
        },
        "outputId": "c49c49c5-e470-4d7b-b5e8-51387b6fc21c",
        "collapsed": true
      },
      "outputs": [
        {
          "output_type": "stream",
          "name": "stdout",
          "text": [
            "Requirement already satisfied: catboost in /usr/local/lib/python3.10/dist-packages (1.2.7)\n",
            "Requirement already satisfied: tensorflow in /usr/local/lib/python3.10/dist-packages (2.17.1)\n",
            "Requirement already satisfied: graphviz in /usr/local/lib/python3.10/dist-packages (from catboost) (0.20.3)\n",
            "Requirement already satisfied: matplotlib in /usr/local/lib/python3.10/dist-packages (from catboost) (3.8.0)\n",
            "Requirement already satisfied: numpy<2.0,>=1.16.0 in /usr/local/lib/python3.10/dist-packages (from catboost) (1.26.4)\n",
            "Requirement already satisfied: pandas>=0.24 in /usr/local/lib/python3.10/dist-packages (from catboost) (2.2.2)\n",
            "Requirement already satisfied: scipy in /usr/local/lib/python3.10/dist-packages (from catboost) (1.13.1)\n",
            "Requirement already satisfied: plotly in /usr/local/lib/python3.10/dist-packages (from catboost) (5.24.1)\n",
            "Requirement already satisfied: six in /usr/local/lib/python3.10/dist-packages (from catboost) (1.16.0)\n",
            "Requirement already satisfied: absl-py>=1.0.0 in /usr/local/lib/python3.10/dist-packages (from tensorflow) (1.4.0)\n",
            "Requirement already satisfied: astunparse>=1.6.0 in /usr/local/lib/python3.10/dist-packages (from tensorflow) (1.6.3)\n",
            "Requirement already satisfied: flatbuffers>=24.3.25 in /usr/local/lib/python3.10/dist-packages (from tensorflow) (24.3.25)\n",
            "Requirement already satisfied: gast!=0.5.0,!=0.5.1,!=0.5.2,>=0.2.1 in /usr/local/lib/python3.10/dist-packages (from tensorflow) (0.6.0)\n",
            "Requirement already satisfied: google-pasta>=0.1.1 in /usr/local/lib/python3.10/dist-packages (from tensorflow) (0.2.0)\n",
            "Requirement already satisfied: h5py>=3.10.0 in /usr/local/lib/python3.10/dist-packages (from tensorflow) (3.12.1)\n",
            "Requirement already satisfied: libclang>=13.0.0 in /usr/local/lib/python3.10/dist-packages (from tensorflow) (18.1.1)\n",
            "Requirement already satisfied: ml-dtypes<0.5.0,>=0.3.1 in /usr/local/lib/python3.10/dist-packages (from tensorflow) (0.4.1)\n",
            "Requirement already satisfied: opt-einsum>=2.3.2 in /usr/local/lib/python3.10/dist-packages (from tensorflow) (3.4.0)\n",
            "Requirement already satisfied: packaging in /usr/local/lib/python3.10/dist-packages (from tensorflow) (24.2)\n",
            "Requirement already satisfied: protobuf!=4.21.0,!=4.21.1,!=4.21.2,!=4.21.3,!=4.21.4,!=4.21.5,<5.0.0dev,>=3.20.3 in /usr/local/lib/python3.10/dist-packages (from tensorflow) (4.25.5)\n",
            "Requirement already satisfied: requests<3,>=2.21.0 in /usr/local/lib/python3.10/dist-packages (from tensorflow) (2.32.3)\n",
            "Requirement already satisfied: setuptools in /usr/local/lib/python3.10/dist-packages (from tensorflow) (75.1.0)\n",
            "Requirement already satisfied: termcolor>=1.1.0 in /usr/local/lib/python3.10/dist-packages (from tensorflow) (2.5.0)\n",
            "Requirement already satisfied: typing-extensions>=3.6.6 in /usr/local/lib/python3.10/dist-packages (from tensorflow) (4.12.2)\n",
            "Requirement already satisfied: wrapt>=1.11.0 in /usr/local/lib/python3.10/dist-packages (from tensorflow) (1.16.0)\n",
            "Requirement already satisfied: grpcio<2.0,>=1.24.3 in /usr/local/lib/python3.10/dist-packages (from tensorflow) (1.68.0)\n",
            "Requirement already satisfied: tensorboard<2.18,>=2.17 in /usr/local/lib/python3.10/dist-packages (from tensorflow) (2.17.1)\n",
            "Requirement already satisfied: keras>=3.2.0 in /usr/local/lib/python3.10/dist-packages (from tensorflow) (3.5.0)\n",
            "Requirement already satisfied: tensorflow-io-gcs-filesystem>=0.23.1 in /usr/local/lib/python3.10/dist-packages (from tensorflow) (0.37.1)\n",
            "Requirement already satisfied: wheel<1.0,>=0.23.0 in /usr/local/lib/python3.10/dist-packages (from astunparse>=1.6.0->tensorflow) (0.45.0)\n",
            "Requirement already satisfied: rich in /usr/local/lib/python3.10/dist-packages (from keras>=3.2.0->tensorflow) (13.9.4)\n",
            "Requirement already satisfied: namex in /usr/local/lib/python3.10/dist-packages (from keras>=3.2.0->tensorflow) (0.0.8)\n",
            "Requirement already satisfied: optree in /usr/local/lib/python3.10/dist-packages (from keras>=3.2.0->tensorflow) (0.13.1)\n",
            "Requirement already satisfied: python-dateutil>=2.8.2 in /usr/local/lib/python3.10/dist-packages (from pandas>=0.24->catboost) (2.8.2)\n",
            "Requirement already satisfied: pytz>=2020.1 in /usr/local/lib/python3.10/dist-packages (from pandas>=0.24->catboost) (2024.2)\n",
            "Requirement already satisfied: tzdata>=2022.7 in /usr/local/lib/python3.10/dist-packages (from pandas>=0.24->catboost) (2024.2)\n",
            "Requirement already satisfied: charset-normalizer<4,>=2 in /usr/local/lib/python3.10/dist-packages (from requests<3,>=2.21.0->tensorflow) (3.4.0)\n",
            "Requirement already satisfied: idna<4,>=2.5 in /usr/local/lib/python3.10/dist-packages (from requests<3,>=2.21.0->tensorflow) (3.10)\n",
            "Requirement already satisfied: urllib3<3,>=1.21.1 in /usr/local/lib/python3.10/dist-packages (from requests<3,>=2.21.0->tensorflow) (2.2.3)\n",
            "Requirement already satisfied: certifi>=2017.4.17 in /usr/local/lib/python3.10/dist-packages (from requests<3,>=2.21.0->tensorflow) (2024.8.30)\n",
            "Requirement already satisfied: markdown>=2.6.8 in /usr/local/lib/python3.10/dist-packages (from tensorboard<2.18,>=2.17->tensorflow) (3.7)\n",
            "Requirement already satisfied: tensorboard-data-server<0.8.0,>=0.7.0 in /usr/local/lib/python3.10/dist-packages (from tensorboard<2.18,>=2.17->tensorflow) (0.7.2)\n",
            "Requirement already satisfied: werkzeug>=1.0.1 in /usr/local/lib/python3.10/dist-packages (from tensorboard<2.18,>=2.17->tensorflow) (3.1.3)\n",
            "Requirement already satisfied: contourpy>=1.0.1 in /usr/local/lib/python3.10/dist-packages (from matplotlib->catboost) (1.3.1)\n",
            "Requirement already satisfied: cycler>=0.10 in /usr/local/lib/python3.10/dist-packages (from matplotlib->catboost) (0.12.1)\n",
            "Requirement already satisfied: fonttools>=4.22.0 in /usr/local/lib/python3.10/dist-packages (from matplotlib->catboost) (4.55.0)\n",
            "Requirement already satisfied: kiwisolver>=1.0.1 in /usr/local/lib/python3.10/dist-packages (from matplotlib->catboost) (1.4.7)\n",
            "Requirement already satisfied: pillow>=6.2.0 in /usr/local/lib/python3.10/dist-packages (from matplotlib->catboost) (11.0.0)\n",
            "Requirement already satisfied: pyparsing>=2.3.1 in /usr/local/lib/python3.10/dist-packages (from matplotlib->catboost) (3.2.0)\n",
            "Requirement already satisfied: tenacity>=6.2.0 in /usr/local/lib/python3.10/dist-packages (from plotly->catboost) (9.0.0)\n",
            "Requirement already satisfied: MarkupSafe>=2.1.1 in /usr/local/lib/python3.10/dist-packages (from werkzeug>=1.0.1->tensorboard<2.18,>=2.17->tensorflow) (3.0.2)\n",
            "Requirement already satisfied: markdown-it-py>=2.2.0 in /usr/local/lib/python3.10/dist-packages (from rich->keras>=3.2.0->tensorflow) (3.0.0)\n",
            "Requirement already satisfied: pygments<3.0.0,>=2.13.0 in /usr/local/lib/python3.10/dist-packages (from rich->keras>=3.2.0->tensorflow) (2.18.0)\n",
            "Requirement already satisfied: mdurl~=0.1 in /usr/local/lib/python3.10/dist-packages (from markdown-it-py>=2.2.0->rich->keras>=3.2.0->tensorflow) (0.1.2)\n"
          ]
        }
      ],
      "source": [
        "!pip install catboost tensorflow\n",
        "\n",
        "# Importar librerías esenciales para manejo de datos y visualización\n",
        "import pandas as pd  # Manejo de datos en formato tabular\n",
        "import numpy as np  # Operaciones numéricas\n",
        "import matplotlib.pyplot as plt  # Generación de gráficos\n",
        "import seaborn as sns  # Gráficos avanzados basados en Matplotlib\n",
        "\n",
        "# Librerías para preprocesamiento y modelos clásicos\n",
        "from sklearn.preprocessing import LabelEncoder, StandardScaler  # Codificación y escalado de datos\n",
        "from sklearn.model_selection import train_test_split  # División de datos en entrenamiento y prueba\n",
        "from sklearn.metrics import classification_report, confusion_matrix  # Métricas para evaluar modelos\n",
        "\n",
        "# Librería para manejo del desbalanceo de clases\n",
        "from imblearn.over_sampling import SMOTE  # Generación de datos sintéticos para balancear clases\n",
        "\n",
        "# Librerías de PyTorch para redes neuronales\n",
        "import torch  # Biblioteca principal de PyTorch\n",
        "import torch.nn as nn  # Definición de redes neuronales\n",
        "from torch.utils.data import TensorDataset, DataLoader  # Manejo eficiente de datasets y minibatches\n",
        "\n",
        "# Importación de modelos clásicos\n",
        "from sklearn.linear_model import LogisticRegression  # Regresión logística\n",
        "from sklearn.tree import DecisionTreeClassifier  # Árbol de decisión\n",
        "from catboost import CatBoostClassifier  # Modelo avanzado de CatBoost\n",
        "\n",
        "# Importación de TensorFlow\n",
        "from tensorflow.keras import Sequential\n",
        "from tensorflow.keras.layers import Dense, Dropout\n",
        "\n",
        "# Importación para descargar archivo\n",
        "from google.colab import files\n",
        "\n",
        "# Cargar el dataset\n",
        "data = pd.read_csv('/content/financial_dataset.csv')"
      ]
    },
    {
      "cell_type": "markdown",
      "metadata": {
        "id": "df1rkc4lUaUB"
      },
      "source": [
        "# *2.- Preprocesamiento de Datos*\n",
        "En esta sección, realizamos un análisis inicial de los datos, manejamos valores faltantes y codificamos variables categóricas. Creamos características adicionales que pueden ser útiles para el modelo y seleccionamos las características relevantes. Finalmente, estandarizamos los datos para prepararlos para el entrenamiento.\n",
        "## a.- Exploración Inicial"
      ]
    },
    {
      "cell_type": "code",
      "execution_count": 2,
      "metadata": {
        "id": "a7B-Im9AUacz",
        "colab": {
          "base_uri": "https://localhost:8080/",
          "height": 206
        },
        "outputId": "f17e4c60-d5cd-4e0f-808f-4f17ac79f04b"
      },
      "outputs": [
        {
          "output_type": "execute_result",
          "data": {
            "text/plain": [
              "   step      type    amount     nameOrig  oldbalanceOrg  newbalanceOrig  \\\n",
              "0     1   PAYMENT   9839.64  C1231006815       170136.0       160296.36   \n",
              "1     1   PAYMENT   1864.28  C1666544295        21249.0        19384.72   \n",
              "2     1  TRANSFER    181.00  C1305486145          181.0            0.00   \n",
              "3     1  CASH_OUT    181.00   C840083671          181.0            0.00   \n",
              "4     1   PAYMENT  11668.14  C2048537720        41554.0        29885.86   \n",
              "\n",
              "      nameDest  oldbalanceDest  newbalanceDest  isFraud  isFlaggedFraud  \n",
              "0  M1979787155             0.0             0.0        0               0  \n",
              "1  M2044282225             0.0             0.0        0               0  \n",
              "2   C553264065             0.0             0.0        1               0  \n",
              "3    C38997010         21182.0             0.0        1               0  \n",
              "4  M1230701703             0.0             0.0        0               0  "
            ],
            "text/html": [
              "\n",
              "  <div id=\"df-4db27493-a6b3-4015-834f-fae64e23afe8\" class=\"colab-df-container\">\n",
              "    <div>\n",
              "<style scoped>\n",
              "    .dataframe tbody tr th:only-of-type {\n",
              "        vertical-align: middle;\n",
              "    }\n",
              "\n",
              "    .dataframe tbody tr th {\n",
              "        vertical-align: top;\n",
              "    }\n",
              "\n",
              "    .dataframe thead th {\n",
              "        text-align: right;\n",
              "    }\n",
              "</style>\n",
              "<table border=\"1\" class=\"dataframe\">\n",
              "  <thead>\n",
              "    <tr style=\"text-align: right;\">\n",
              "      <th></th>\n",
              "      <th>step</th>\n",
              "      <th>type</th>\n",
              "      <th>amount</th>\n",
              "      <th>nameOrig</th>\n",
              "      <th>oldbalanceOrg</th>\n",
              "      <th>newbalanceOrig</th>\n",
              "      <th>nameDest</th>\n",
              "      <th>oldbalanceDest</th>\n",
              "      <th>newbalanceDest</th>\n",
              "      <th>isFraud</th>\n",
              "      <th>isFlaggedFraud</th>\n",
              "    </tr>\n",
              "  </thead>\n",
              "  <tbody>\n",
              "    <tr>\n",
              "      <th>0</th>\n",
              "      <td>1</td>\n",
              "      <td>PAYMENT</td>\n",
              "      <td>9839.64</td>\n",
              "      <td>C1231006815</td>\n",
              "      <td>170136.0</td>\n",
              "      <td>160296.36</td>\n",
              "      <td>M1979787155</td>\n",
              "      <td>0.0</td>\n",
              "      <td>0.0</td>\n",
              "      <td>0</td>\n",
              "      <td>0</td>\n",
              "    </tr>\n",
              "    <tr>\n",
              "      <th>1</th>\n",
              "      <td>1</td>\n",
              "      <td>PAYMENT</td>\n",
              "      <td>1864.28</td>\n",
              "      <td>C1666544295</td>\n",
              "      <td>21249.0</td>\n",
              "      <td>19384.72</td>\n",
              "      <td>M2044282225</td>\n",
              "      <td>0.0</td>\n",
              "      <td>0.0</td>\n",
              "      <td>0</td>\n",
              "      <td>0</td>\n",
              "    </tr>\n",
              "    <tr>\n",
              "      <th>2</th>\n",
              "      <td>1</td>\n",
              "      <td>TRANSFER</td>\n",
              "      <td>181.00</td>\n",
              "      <td>C1305486145</td>\n",
              "      <td>181.0</td>\n",
              "      <td>0.00</td>\n",
              "      <td>C553264065</td>\n",
              "      <td>0.0</td>\n",
              "      <td>0.0</td>\n",
              "      <td>1</td>\n",
              "      <td>0</td>\n",
              "    </tr>\n",
              "    <tr>\n",
              "      <th>3</th>\n",
              "      <td>1</td>\n",
              "      <td>CASH_OUT</td>\n",
              "      <td>181.00</td>\n",
              "      <td>C840083671</td>\n",
              "      <td>181.0</td>\n",
              "      <td>0.00</td>\n",
              "      <td>C38997010</td>\n",
              "      <td>21182.0</td>\n",
              "      <td>0.0</td>\n",
              "      <td>1</td>\n",
              "      <td>0</td>\n",
              "    </tr>\n",
              "    <tr>\n",
              "      <th>4</th>\n",
              "      <td>1</td>\n",
              "      <td>PAYMENT</td>\n",
              "      <td>11668.14</td>\n",
              "      <td>C2048537720</td>\n",
              "      <td>41554.0</td>\n",
              "      <td>29885.86</td>\n",
              "      <td>M1230701703</td>\n",
              "      <td>0.0</td>\n",
              "      <td>0.0</td>\n",
              "      <td>0</td>\n",
              "      <td>0</td>\n",
              "    </tr>\n",
              "  </tbody>\n",
              "</table>\n",
              "</div>\n",
              "    <div class=\"colab-df-buttons\">\n",
              "\n",
              "  <div class=\"colab-df-container\">\n",
              "    <button class=\"colab-df-convert\" onclick=\"convertToInteractive('df-4db27493-a6b3-4015-834f-fae64e23afe8')\"\n",
              "            title=\"Convert this dataframe to an interactive table.\"\n",
              "            style=\"display:none;\">\n",
              "\n",
              "  <svg xmlns=\"http://www.w3.org/2000/svg\" height=\"24px\" viewBox=\"0 -960 960 960\">\n",
              "    <path d=\"M120-120v-720h720v720H120Zm60-500h600v-160H180v160Zm220 220h160v-160H400v160Zm0 220h160v-160H400v160ZM180-400h160v-160H180v160Zm440 0h160v-160H620v160ZM180-180h160v-160H180v160Zm440 0h160v-160H620v160Z\"/>\n",
              "  </svg>\n",
              "    </button>\n",
              "\n",
              "  <style>\n",
              "    .colab-df-container {\n",
              "      display:flex;\n",
              "      gap: 12px;\n",
              "    }\n",
              "\n",
              "    .colab-df-convert {\n",
              "      background-color: #E8F0FE;\n",
              "      border: none;\n",
              "      border-radius: 50%;\n",
              "      cursor: pointer;\n",
              "      display: none;\n",
              "      fill: #1967D2;\n",
              "      height: 32px;\n",
              "      padding: 0 0 0 0;\n",
              "      width: 32px;\n",
              "    }\n",
              "\n",
              "    .colab-df-convert:hover {\n",
              "      background-color: #E2EBFA;\n",
              "      box-shadow: 0px 1px 2px rgba(60, 64, 67, 0.3), 0px 1px 3px 1px rgba(60, 64, 67, 0.15);\n",
              "      fill: #174EA6;\n",
              "    }\n",
              "\n",
              "    .colab-df-buttons div {\n",
              "      margin-bottom: 4px;\n",
              "    }\n",
              "\n",
              "    [theme=dark] .colab-df-convert {\n",
              "      background-color: #3B4455;\n",
              "      fill: #D2E3FC;\n",
              "    }\n",
              "\n",
              "    [theme=dark] .colab-df-convert:hover {\n",
              "      background-color: #434B5C;\n",
              "      box-shadow: 0px 1px 3px 1px rgba(0, 0, 0, 0.15);\n",
              "      filter: drop-shadow(0px 1px 2px rgba(0, 0, 0, 0.3));\n",
              "      fill: #FFFFFF;\n",
              "    }\n",
              "  </style>\n",
              "\n",
              "    <script>\n",
              "      const buttonEl =\n",
              "        document.querySelector('#df-4db27493-a6b3-4015-834f-fae64e23afe8 button.colab-df-convert');\n",
              "      buttonEl.style.display =\n",
              "        google.colab.kernel.accessAllowed ? 'block' : 'none';\n",
              "\n",
              "      async function convertToInteractive(key) {\n",
              "        const element = document.querySelector('#df-4db27493-a6b3-4015-834f-fae64e23afe8');\n",
              "        const dataTable =\n",
              "          await google.colab.kernel.invokeFunction('convertToInteractive',\n",
              "                                                    [key], {});\n",
              "        if (!dataTable) return;\n",
              "\n",
              "        const docLinkHtml = 'Like what you see? Visit the ' +\n",
              "          '<a target=\"_blank\" href=https://colab.research.google.com/notebooks/data_table.ipynb>data table notebook</a>'\n",
              "          + ' to learn more about interactive tables.';\n",
              "        element.innerHTML = '';\n",
              "        dataTable['output_type'] = 'display_data';\n",
              "        await google.colab.output.renderOutput(dataTable, element);\n",
              "        const docLink = document.createElement('div');\n",
              "        docLink.innerHTML = docLinkHtml;\n",
              "        element.appendChild(docLink);\n",
              "      }\n",
              "    </script>\n",
              "  </div>\n",
              "\n",
              "\n",
              "<div id=\"df-16108375-684d-4554-a0a3-f32e37d40ed1\">\n",
              "  <button class=\"colab-df-quickchart\" onclick=\"quickchart('df-16108375-684d-4554-a0a3-f32e37d40ed1')\"\n",
              "            title=\"Suggest charts\"\n",
              "            style=\"display:none;\">\n",
              "\n",
              "<svg xmlns=\"http://www.w3.org/2000/svg\" height=\"24px\"viewBox=\"0 0 24 24\"\n",
              "     width=\"24px\">\n",
              "    <g>\n",
              "        <path d=\"M19 3H5c-1.1 0-2 .9-2 2v14c0 1.1.9 2 2 2h14c1.1 0 2-.9 2-2V5c0-1.1-.9-2-2-2zM9 17H7v-7h2v7zm4 0h-2V7h2v10zm4 0h-2v-4h2v4z\"/>\n",
              "    </g>\n",
              "</svg>\n",
              "  </button>\n",
              "\n",
              "<style>\n",
              "  .colab-df-quickchart {\n",
              "      --bg-color: #E8F0FE;\n",
              "      --fill-color: #1967D2;\n",
              "      --hover-bg-color: #E2EBFA;\n",
              "      --hover-fill-color: #174EA6;\n",
              "      --disabled-fill-color: #AAA;\n",
              "      --disabled-bg-color: #DDD;\n",
              "  }\n",
              "\n",
              "  [theme=dark] .colab-df-quickchart {\n",
              "      --bg-color: #3B4455;\n",
              "      --fill-color: #D2E3FC;\n",
              "      --hover-bg-color: #434B5C;\n",
              "      --hover-fill-color: #FFFFFF;\n",
              "      --disabled-bg-color: #3B4455;\n",
              "      --disabled-fill-color: #666;\n",
              "  }\n",
              "\n",
              "  .colab-df-quickchart {\n",
              "    background-color: var(--bg-color);\n",
              "    border: none;\n",
              "    border-radius: 50%;\n",
              "    cursor: pointer;\n",
              "    display: none;\n",
              "    fill: var(--fill-color);\n",
              "    height: 32px;\n",
              "    padding: 0;\n",
              "    width: 32px;\n",
              "  }\n",
              "\n",
              "  .colab-df-quickchart:hover {\n",
              "    background-color: var(--hover-bg-color);\n",
              "    box-shadow: 0 1px 2px rgba(60, 64, 67, 0.3), 0 1px 3px 1px rgba(60, 64, 67, 0.15);\n",
              "    fill: var(--button-hover-fill-color);\n",
              "  }\n",
              "\n",
              "  .colab-df-quickchart-complete:disabled,\n",
              "  .colab-df-quickchart-complete:disabled:hover {\n",
              "    background-color: var(--disabled-bg-color);\n",
              "    fill: var(--disabled-fill-color);\n",
              "    box-shadow: none;\n",
              "  }\n",
              "\n",
              "  .colab-df-spinner {\n",
              "    border: 2px solid var(--fill-color);\n",
              "    border-color: transparent;\n",
              "    border-bottom-color: var(--fill-color);\n",
              "    animation:\n",
              "      spin 1s steps(1) infinite;\n",
              "  }\n",
              "\n",
              "  @keyframes spin {\n",
              "    0% {\n",
              "      border-color: transparent;\n",
              "      border-bottom-color: var(--fill-color);\n",
              "      border-left-color: var(--fill-color);\n",
              "    }\n",
              "    20% {\n",
              "      border-color: transparent;\n",
              "      border-left-color: var(--fill-color);\n",
              "      border-top-color: var(--fill-color);\n",
              "    }\n",
              "    30% {\n",
              "      border-color: transparent;\n",
              "      border-left-color: var(--fill-color);\n",
              "      border-top-color: var(--fill-color);\n",
              "      border-right-color: var(--fill-color);\n",
              "    }\n",
              "    40% {\n",
              "      border-color: transparent;\n",
              "      border-right-color: var(--fill-color);\n",
              "      border-top-color: var(--fill-color);\n",
              "    }\n",
              "    60% {\n",
              "      border-color: transparent;\n",
              "      border-right-color: var(--fill-color);\n",
              "    }\n",
              "    80% {\n",
              "      border-color: transparent;\n",
              "      border-right-color: var(--fill-color);\n",
              "      border-bottom-color: var(--fill-color);\n",
              "    }\n",
              "    90% {\n",
              "      border-color: transparent;\n",
              "      border-bottom-color: var(--fill-color);\n",
              "    }\n",
              "  }\n",
              "</style>\n",
              "\n",
              "  <script>\n",
              "    async function quickchart(key) {\n",
              "      const quickchartButtonEl =\n",
              "        document.querySelector('#' + key + ' button');\n",
              "      quickchartButtonEl.disabled = true;  // To prevent multiple clicks.\n",
              "      quickchartButtonEl.classList.add('colab-df-spinner');\n",
              "      try {\n",
              "        const charts = await google.colab.kernel.invokeFunction(\n",
              "            'suggestCharts', [key], {});\n",
              "      } catch (error) {\n",
              "        console.error('Error during call to suggestCharts:', error);\n",
              "      }\n",
              "      quickchartButtonEl.classList.remove('colab-df-spinner');\n",
              "      quickchartButtonEl.classList.add('colab-df-quickchart-complete');\n",
              "    }\n",
              "    (() => {\n",
              "      let quickchartButtonEl =\n",
              "        document.querySelector('#df-16108375-684d-4554-a0a3-f32e37d40ed1 button');\n",
              "      quickchartButtonEl.style.display =\n",
              "        google.colab.kernel.accessAllowed ? 'block' : 'none';\n",
              "    })();\n",
              "  </script>\n",
              "</div>\n",
              "\n",
              "    </div>\n",
              "  </div>\n"
            ],
            "application/vnd.google.colaboratory.intrinsic+json": {
              "type": "dataframe",
              "variable_name": "data"
            }
          },
          "metadata": {},
          "execution_count": 2
        }
      ],
      "source": [
        "# Visualizar las primeras filas del dataset\n",
        "data.head()"
      ]
    },
    {
      "cell_type": "markdown",
      "metadata": {
        "id": "V61EkslOXVwD"
      },
      "source": [
        "## b.- Manejo de Valores Faltantes"
      ]
    },
    {
      "cell_type": "code",
      "execution_count": 3,
      "metadata": {
        "id": "yBiI0ysHXWE-",
        "colab": {
          "base_uri": "https://localhost:8080/"
        },
        "outputId": "da79936f-10c8-4a65-f853-95b5d0d52a4f"
      },
      "outputs": [
        {
          "output_type": "stream",
          "name": "stdout",
          "text": [
            "Valores faltantes por columna:\n",
            "step              0\n",
            "type              0\n",
            "amount            0\n",
            "nameOrig          0\n",
            "oldbalanceOrg     0\n",
            "newbalanceOrig    0\n",
            "nameDest          0\n",
            "oldbalanceDest    0\n",
            "newbalanceDest    0\n",
            "isFraud           0\n",
            "isFlaggedFraud    0\n",
            "dtype: int64\n"
          ]
        }
      ],
      "source": [
        "# Verificar valores faltantes en cada columna\n",
        "print(\"Valores faltantes por columna:\")\n",
        "print(data.isnull().sum())\n",
        "\n",
        "# Eliminar filas con valores faltantes en 'isFraud'\n",
        "data = data.dropna(subset=['isFraud'])\n",
        "\n",
        "# Opcional: También podemos eliminar filas con valores faltantes en las características\n",
        "data = data.dropna()\n"
      ]
    },
    {
      "cell_type": "markdown",
      "metadata": {
        "id": "d19zWCeAUali"
      },
      "source": [
        "## c.- Codificación de Variables Categóricas"
      ]
    },
    {
      "cell_type": "code",
      "execution_count": 4,
      "metadata": {
        "id": "7kMEpBeBUas5"
      },
      "outputs": [],
      "source": [
        "# Crear una instancia de LabelEncoder para codificar variables categóricas\n",
        "label_encoder = LabelEncoder()\n",
        "\n",
        "# Codificar la columna 'type' y agregarla como una nueva columna 'type_encoded'\n",
        "data['type_encoded'] = label_encoder.fit_transform(data['type'])\n"
      ]
    },
    {
      "cell_type": "markdown",
      "metadata": {
        "id": "qTtEWp1pUa0g"
      },
      "source": [
        "## d.- Creación de Características Adicionales"
      ]
    },
    {
      "cell_type": "code",
      "execution_count": 5,
      "metadata": {
        "id": "L5Ap9GxBUa7g"
      },
      "outputs": [],
      "source": [
        "# Crear características adicionales basadas en los balances\n",
        "data['errorBalanceOrig'] = data['newbalanceOrig'] + data['amount'] - data['oldbalanceOrg']\n",
        "data['errorBalanceDest'] = data['oldbalanceDest'] + data['amount'] - data['newbalanceDest']"
      ]
    },
    {
      "cell_type": "markdown",
      "metadata": {
        "id": "s0vYOakEVty3"
      },
      "source": [
        "## e.- Selección de Características Relevantes"
      ]
    },
    {
      "cell_type": "code",
      "execution_count": 6,
      "metadata": {
        "id": "8m_uQMUVVt9y"
      },
      "outputs": [],
      "source": [
        "# Definir las características que se utilizarán para entrenar el modelo\n",
        "features = ['step', 'type_encoded', 'amount', 'oldbalanceOrg', 'newbalanceOrig',\n",
        "            'oldbalanceDest', 'newbalanceDest', 'errorBalanceOrig', 'errorBalanceDest']\n",
        "\n",
        "# Crear la matriz de características 'X' y el vector objetivo 'y'\n",
        "X = data[features]           # Características de entrada\n",
        "y = data['isFraud']          # Variable objetivo (0: no fraude, 1: fraude)"
      ]
    },
    {
      "cell_type": "markdown",
      "metadata": {
        "id": "efOUcz8sVuIn"
      },
      "source": [
        "## f.- Estandarización de Datos"
      ]
    },
    {
      "cell_type": "code",
      "execution_count": 7,
      "metadata": {
        "id": "so-5mqHFVuQa"
      },
      "outputs": [],
      "source": [
        "# Crear una instancia de StandardScaler para estandarizar las características\n",
        "scaler = StandardScaler()\n",
        "\n",
        "# Ajustar el escalador a los datos y transformar las características\n",
        "X_scaled = scaler.fit_transform(X)"
      ]
    },
    {
      "cell_type": "markdown",
      "metadata": {
        "id": "tAifpgcJVuXt"
      },
      "source": [
        "# *3. Análisis Exploratorio de Datos (EDA)*\n",
        "Exploramos la distribución de las clases y visualizamos la variable objetivo para detectar desbalances.\n",
        "## a.-Distribución de Clases"
      ]
    },
    {
      "cell_type": "code",
      "execution_count": 8,
      "metadata": {
        "id": "v8WOAu4dVugD",
        "colab": {
          "base_uri": "https://localhost:8080/",
          "height": 594
        },
        "outputId": "77642a7d-5d1e-495b-bf32-166263c071dc"
      },
      "outputs": [
        {
          "output_type": "stream",
          "name": "stdout",
          "text": [
            "\n",
            "Distribución de clases:\n",
            "isFraud\n",
            "0    6354407\n",
            "1       8213\n",
            "Name: count, dtype: int64\n"
          ]
        },
        {
          "output_type": "display_data",
          "data": {
            "text/plain": [
              "<Figure size 640x480 with 1 Axes>"
            ],
            "image/png": "[encoded data removed]"
          },
          "metadata": {}
        }
      ],
      "source": [
        "# Contar las clases en la variable objetivo ('isFraud')\n",
        "fraud_counts = data['isFraud'].value_counts()\n",
        "print(\"\\nDistribución de clases:\")\n",
        "print(fraud_counts)  # Mostrar la distribución de clases (fraude vs no fraude)\n",
        "\n",
        "# Visualizar la distribución de clases\n",
        "sns.countplot(x='isFraud', data=data)  # Crear un gráfico de barras\n",
        "plt.title('Distribución de Transacciones Fraudulentas vs No Fraudulentas')  # Título del gráfico\n",
        "plt.xlabel('Es Fraude (0 = No, 1 = Sí)')  # Etiqueta del eje X\n",
        "plt.ylabel('Cantidad de Transacciones')  # Etiqueta del eje Y\n",
        "plt.show()  # Mostrar el gráfico"
      ]
    },
    {
      "cell_type": "markdown",
      "metadata": {
        "id": "vlcSN1XiVu5J"
      },
      "source": [
        "# *4.- Manejo del Desbalance de Clases*\n",
        "Debido a que las transacciones fraudulentas son significativamente menos frecuentes que las no fraudulentas, utilizamos la técnica SMOTE (Synthetic Minority Over-sampling Technique) para balancear las clases y mejorar la capacidad del modelo para detectar fraudes."
      ]
    },
    {
      "cell_type": "code",
      "execution_count": 9,
      "metadata": {
        "id": "UobV_-pmVvBH",
        "colab": {
          "base_uri": "https://localhost:8080/",
          "height": 517
        },
        "outputId": "6b3f5498-30a3-4eb5-e22d-4998d38ce113"
      },
      "outputs": [
        {
          "output_type": "display_data",
          "data": {
            "text/plain": [
              "<Figure size 600x400 with 1 Axes>"
            ],
            "image/png": "[encoded data removed]"
          },
          "metadata": {}
        },
        {
          "output_type": "stream",
          "name": "stdout",
          "text": [
            "\n",
            "Desbalanceo corregido con SMOTE. Clases balanceadas.\n",
            "isFraud\n",
            "0    6354407\n",
            "1    6354407\n",
            "Name: count, dtype: int64\n"
          ]
        }
      ],
      "source": [
        "# Aplicar SMOTE para generar datos sintéticos y balancear las clases\n",
        "smote = SMOTE(random_state=42)  # Crear una instancia de SMOTE con semilla\n",
        "X_resampled, y_resampled = smote.fit_resample(X_scaled, y)  # Aplicar SMOTE a los datos\n",
        "\n",
        "# Visualizar la nueva distribución de clases balanceadas\n",
        "plt.figure(figsize=(6, 4))  # Configurar tamaño del gráfico\n",
        "sns.countplot(x=y_resampled)  # Crear un gráfico de barras para las clases balanceadas\n",
        "plt.title('Distribución Balanceada de Clases')  # Título del gráfico\n",
        "plt.xlabel('Es Fraude (0 = No, 1 = Sí)')  # Etiqueta del eje X\n",
        "plt.ylabel('Cantidad de Transacciones')  # Etiqueta del eje Y\n",
        "plt.show()  # Mostrar el gráfico\n",
        "\n",
        "# Mostrar conteo de clases después de balancear\n",
        "print(\"\\nDesbalanceo corregido con SMOTE. Clases balanceadas.\")\n",
        "print(pd.Series(y_resampled).value_counts())  # Imprimir la nueva distribución de clases"
      ]
    },
    {
      "cell_type": "markdown",
      "metadata": {
        "id": "-XZ8NW5JVvL1"
      },
      "source": [
        "# *5.- Evaluación con Modelos Clásicos de Machine Learning*\n",
        "Entrenamos y evaluamos modelos clásicos de machine learning."
      ]
    },
    {
      "cell_type": "code",
      "execution_count": 10,
      "metadata": {
        "id": "SQpfRRfHVvUx",
        "colab": {
          "base_uri": "https://localhost:8080/"
        },
        "outputId": "d18b003d-6567-4230-e4e5-062909f494c9"
      },
      "outputs": [
        {
          "output_type": "stream",
          "name": "stdout",
          "text": [
            "\n",
            "Evaluando modelo: Regresión Logística\n",
            "              precision    recall  f1-score   support\n",
            "\n",
            "           0       0.89      0.96      0.93   1270882\n",
            "           1       0.96      0.88      0.92   1270881\n",
            "\n",
            "    accuracy                           0.92   2541763\n",
            "   macro avg       0.93      0.92      0.92   2541763\n",
            "weighted avg       0.93      0.92      0.92   2541763\n",
            "\n",
            "\n",
            "Evaluando modelo: Árbol de Decisión\n",
            "              precision    recall  f1-score   support\n",
            "\n",
            "           0       1.00      1.00      1.00   1270882\n",
            "           1       1.00      1.00      1.00   1270881\n",
            "\n",
            "    accuracy                           1.00   2541763\n",
            "   macro avg       1.00      1.00      1.00   2541763\n",
            "weighted avg       1.00      1.00      1.00   2541763\n",
            "\n",
            "\n",
            "Evaluando modelo: CatBoost\n",
            "              precision    recall  f1-score   support\n",
            "\n",
            "           0       1.00      1.00      1.00   1270882\n",
            "           1       1.00      1.00      1.00   1270881\n",
            "\n",
            "    accuracy                           1.00   2541763\n",
            "   macro avg       1.00      1.00      1.00   2541763\n",
            "weighted avg       1.00      1.00      1.00   2541763\n",
            "\n"
          ]
        }
      ],
      "source": [
        "# Definir los modelos clásicos para evaluar\n",
        "models = {\n",
        "    'Regresión Logística': LogisticRegression(),  # Regresión Logística\n",
        "    'Árbol de Decisión': DecisionTreeClassifier(),  # Árbol de Decisión\n",
        "    'CatBoost': CatBoostClassifier(iterations=100, learning_rate=0.1, verbose=0)  # CatBoost\n",
        "}\n",
        "\n",
        "# Dividir los datos balanceados en conjuntos de entrenamiento y prueba\n",
        "X_train_classic, X_test_classic, y_train_classic, y_test_classic = train_test_split(\n",
        "    X_resampled, y_resampled, test_size=0.2, random_state=42, stratify=y_resampled  # Mantener proporciones balanceadas\n",
        ")\n",
        "\n",
        "# Evaluar cada modelo clásico\n",
        "for name, model in models.items():\n",
        "    print(f\"\\nEvaluando modelo: {name}\")  # Imprimir el nombre del modelo\n",
        "    model.fit(X_train_classic, y_train_classic)  # Entrenar el modelo con datos de entrenamiento\n",
        "    y_pred = model.predict(X_test_classic)  # Predecir en el conjunto de prueba\n",
        "\n",
        "    # Mostrar el reporte de clasificación\n",
        "    print(classification_report(y_test_classic, y_pred))  # Métricas de precisión, recall y F1-score"
      ]
    },
    {
      "cell_type": "markdown",
      "source": [
        "# *6.- Preparación de Datos para PyTorch*\n",
        "Convertimos los datos balanceados en tensores para entrenar modelos de PyTorch.\n",
        "\n"
      ],
      "metadata": {
        "id": "uNamb6JGNGcy"
      }
    },
    {
      "cell_type": "code",
      "source": [
        "# Dividir los datos balanceados para PyTorch\n",
        "X_train, X_test, y_train, y_test = train_test_split(\n",
        "    X_resampled, y_resampled, test_size=0.2, random_state=42, stratify=y_resampled\n",
        ")\n",
        "\n",
        "# Convertir las matrices en tensores para PyTorch\n",
        "X_train_tensor = torch.tensor(X_train, dtype=torch.float32)  # Tensor para características de entrenamiento\n",
        "y_train_tensor = torch.tensor(y_train.values, dtype=torch.float32)  # Tensor para etiquetas de entrenamiento\n",
        "X_test_tensor = torch.tensor(X_test, dtype=torch.float32)  # Tensor para características de prueba\n",
        "y_test_tensor = torch.tensor(y_test.values, dtype=torch.float32)  # Tensor para etiquetas de prueba\n",
        "\n",
        "# Crear DataLoaders para manejar los datos en minibatches\n",
        "train_dataset = TensorDataset(X_train_tensor, y_train_tensor)  # Dataset para entrenamiento\n",
        "test_dataset = TensorDataset(X_test_tensor, y_test_tensor)  # Dataset para prueba\n",
        "batch_size = 64  # Tamaño de lote\n",
        "train_loader = DataLoader(train_dataset, batch_size=batch_size, shuffle=True)  # DataLoader de entrenamiento\n",
        "test_loader = DataLoader(test_dataset, batch_size=batch_size, shuffle=False)  # DataLoader de prueba"
      ],
      "metadata": {
        "id": "QGnpBMkjNGlo"
      },
      "execution_count": 11,
      "outputs": []
    },
    {
      "cell_type": "markdown",
      "metadata": {
        "id": "J-40FBfvVvdH"
      },
      "source": [
        "# *7.- Entrenamiento del Modelo PyTorch*\n",
        "## a.- Definir la arquitectura del modelo."
      ]
    },
    {
      "cell_type": "code",
      "source": [
        "# Definir el modelo de detección de fraudes\n",
        "class FraudDetectionModel(nn.Module):\n",
        "    def __init__(self):\n",
        "        super(FraudDetectionModel, self).__init__()\n",
        "        self.model = nn.Sequential(\n",
        "            nn.Linear(X_train.shape[1], 64),  # Capa de entrada con 64 neuronas\n",
        "            nn.ReLU(),  # Activación ReLU\n",
        "            nn.Dropout(0.2),  # Dropout para prevenir sobreajuste\n",
        "            nn.Linear(64, 32),  # Capa oculta con 32 neuronas\n",
        "            nn.ReLU(),  # Activación ReLU\n",
        "            nn.Dropout(0.2),  # Dropout\n",
        "            nn.Linear(32, 1),  # Capa de salida con una neurona\n",
        "            nn.Sigmoid()  # Activación sigmoide para salida binaria\n",
        "        )\n",
        "\n",
        "    def forward(self, x):\n",
        "        return self.model(x)  # Definir la propagación hacia adelante\n",
        "\n",
        "# Crear una instancia del modelo\n",
        "model = FraudDetectionModel()\n",
        "\n",
        "# Definir la función de pérdida y el optimizador\n",
        "criterion = nn.BCELoss()  # Pérdida de entropía cruzada binaria\n",
        "optimizer = torch.optim.Adam(model.parameters(), lr=0.001)  # Optimizador Adam"
      ],
      "metadata": {
        "id": "7XAM9hqg_UKi"
      },
      "execution_count": 12,
      "outputs": []
    },
    {
      "cell_type": "markdown",
      "source": [
        "## b.- Entrenamiento de Modelo, seteo de epocas y visualizacion de la perdida de entrenamiento."
      ],
      "metadata": {
        "id": "PDO0TwlK_UaM"
      }
    },
    {
      "cell_type": "code",
      "source": [
        "# Entrenar el modelo\n",
        "num_epochs = 10  # Número de épocas\n",
        "train_losses = []  # Lista para guardar las pérdidas por época\n",
        "for epoch in range(num_epochs):\n",
        "    model.train()  # Modo de entrenamiento\n",
        "    running_loss = 0.0  # Inicializar la pérdida acumulada\n",
        "    for features, labels in train_loader:  # Iterar sobre los lotes de datos\n",
        "        outputs = model(features)  # Propagación hacia adelante\n",
        "        loss = criterion(outputs.view(-1), labels)  # Calcular pérdida\n",
        "        optimizer.zero_grad()  # Limpiar gradientes\n",
        "        loss.backward()  # Backpropagation\n",
        "        optimizer.step()  # Actualizar pesos\n",
        "        running_loss += loss.item()  # Acumular pérdida\n",
        "    epoch_loss = running_loss / len(train_loader)  # Promediar la pérdida\n",
        "    train_losses.append(epoch_loss)  # Guardar la pérdida de la época\n",
        "    print(f\"Época [{epoch+1}/{num_epochs}], Pérdida de Entrenamiento: {epoch_loss:.4f}\")\n",
        "\n",
        "# Visualizar la pérdida de entrenamiento\n",
        "plt.plot(range(1, num_epochs + 1), train_losses, marker='o')  # Crear gráfica de la pérdida\n",
        "plt.title('Pérdida de Entrenamiento por Época')  # Título\n",
        "plt.xlabel('Época')  # Etiqueta del eje X\n",
        "plt.ylabel('Pérdida')  # Etiqueta del eje Y\n",
        "plt.show()  # Mostrar gráfico"
      ],
      "metadata": {
        "colab": {
          "base_uri": "https://localhost:8080/",
          "height": 655
        },
        "id": "iUTYsfdW_UnZ",
        "outputId": "0fa77d0c-231a-47c2-ca55-f4edaf59616d"
      },
      "execution_count": 13,
      "outputs": [
        {
          "output_type": "stream",
          "name": "stdout",
          "text": [
            "Época [1/10], Pérdida de Entrenamiento: 0.0383\n",
            "Época [2/10], Pérdida de Entrenamiento: 0.0307\n",
            "Época [3/10], Pérdida de Entrenamiento: 0.0293\n",
            "Época [4/10], Pérdida de Entrenamiento: 0.0278\n",
            "Época [5/10], Pérdida de Entrenamiento: 0.0272\n",
            "Época [6/10], Pérdida de Entrenamiento: 0.0265\n",
            "Época [7/10], Pérdida de Entrenamiento: 0.0260\n",
            "Época [8/10], Pérdida de Entrenamiento: 0.0257\n",
            "Época [9/10], Pérdida de Entrenamiento: 0.0257\n",
            "Época [10/10], Pérdida de Entrenamiento: 0.0250\n"
          ]
        },
        {
          "output_type": "display_data",
          "data": {
            "text/plain": [
              "<Figure size 640x480 with 1 Axes>"
            ],
            "image/png": "[encoded data removed]"
          },
          "metadata": {}
        }
      ]
    },
    {
      "cell_type": "markdown",
      "source": [
        "# *8. Evaluación del Modelo PyTorch*\n",
        "Evaluamos el modelo entrenado y mostramos las métricas de rendimiento."
      ],
      "metadata": {
        "id": "Brh66fXV6oMi"
      }
    },
    {
      "cell_type": "code",
      "source": [
        "# Cambiar el modelo al modo de evaluación (desactiva dropout y batch normalization)\n",
        "model.eval()\n",
        "\n",
        "# Inicializar listas para almacenar las predicciones y etiquetas reales\n",
        "all_preds = []  # Lista para las predicciones del modelo\n",
        "all_labels = []  # Lista para las etiquetas reales\n",
        "\n",
        "# Desactivar el cálculo de gradientes (reduce el uso de memoria y acelera el proceso)\n",
        "with torch.no_grad():\n",
        "    # Iterar sobre el DataLoader del conjunto de prueba\n",
        "    for features, labels in test_loader:\n",
        "        # Realizar la predicción\n",
        "        outputs = model(features)  # Salidas del modelo\n",
        "        # Convertir las probabilidades a etiquetas binarias (0 o 1) usando un umbral de 0.5\n",
        "        preds = (outputs.view(-1) > 0.5).float()\n",
        "        # Agregar las predicciones y etiquetas reales a las listas\n",
        "        all_preds.extend(preds.numpy())\n",
        "        all_labels.extend(labels.numpy())\n",
        "\n",
        "# Generar el reporte de clasificación para evaluar el rendimiento del modelo\n",
        "print(\"\\nReporte de clasificación del modelo PyTorch:\")\n",
        "print(classification_report(all_labels, all_preds))\n",
        "\n",
        "# Crear y visualizar la matriz de confusión\n",
        "# Esto ayuda a identificar los verdaderos positivos, verdaderos negativos, falsos positivos y falsos negativos\n",
        "cm = confusion_matrix(all_labels, all_preds)\n",
        "\n",
        "# Visualización de la matriz de confusión como un mapa de calor\n",
        "sns.heatmap(cm, annot=True, fmt=\"d\", cmap=\"Blues\")\n",
        "plt.title(\"Matriz de Confusión: PyTorch\")\n",
        "plt.xlabel(\"Predicciones\")  # Etiqueta del eje X\n",
        "plt.ylabel(\"Valores Reales\")  # Etiqueta del eje Y\n",
        "plt.show()\n"
      ],
      "metadata": {
        "id": "MTGGeRyU6oTx",
        "colab": {
          "base_uri": "https://localhost:8080/",
          "height": 668
        },
        "outputId": "a7f39612-f4d1-48ee-e178-74e9d0cc1758"
      },
      "execution_count": 14,
      "outputs": [
        {
          "output_type": "stream",
          "name": "stdout",
          "text": [
            "\n",
            "Reporte de clasificación del modelo PyTorch:\n",
            "              precision    recall  f1-score   support\n",
            "\n",
            "         0.0       1.00      0.99      0.99   1270882\n",
            "         1.0       0.99      1.00      0.99   1270881\n",
            "\n",
            "    accuracy                           0.99   2541763\n",
            "   macro avg       0.99      0.99      0.99   2541763\n",
            "weighted avg       0.99      0.99      0.99   2541763\n",
            "\n"
          ]
        },
        {
          "output_type": "display_data",
          "data": {
            "text/plain": [
              "<Figure size 640x480 with 2 Axes>"
            ],
            "image/png": "[encoded data removed]"
          },
          "metadata": {}
        }
      ]
    },
    {
      "cell_type": "markdown",
      "source": [
        "# *9.- Transformar un modelo PyTorch a Keras*\n",
        "## a.- Exportar los pesos de PyTorch\n",
        "Guarda los pesos del modelo de PyTorch entrenado."
      ],
      "metadata": {
        "id": "loUzwP8E6oay"
      }
    },
    {
      "cell_type": "code",
      "source": [
        "# Guardar los pesos del modelo PyTorch\n",
        "torch.save(model.state_dict(), \"pytorch_model.pth\")"
      ],
      "metadata": {
        "id": "LU48aBid6oiM"
      },
      "execution_count": 21,
      "outputs": []
    },
    {
      "cell_type": "markdown",
      "source": [
        "## b.- Crear un modelo equivalente en Keras."
      ],
      "metadata": {
        "id": "tbFXWE_Kf5Y1"
      }
    },
    {
      "cell_type": "code",
      "source": [
        "# Definir el modelo Keras con una arquitectura equivalente\n",
        "keras_model = Sequential([\n",
        "    Dense(64, input_dim=X_train.shape[1], activation='relu'),  # Capa densa equivalente a nn.Linear + nn.ReLU\n",
        "    Dropout(0.2),  # Dropout\n",
        "    Dense(32, activation='relu'),  # Capa oculta con 32 unidades\n",
        "    Dropout(0.2),  # Dropout\n",
        "    Dense(1, activation='sigmoid')  # Capa de salida con activación sigmoide\n",
        "])\n"
      ],
      "metadata": {
        "id": "iGHnWNwGf5s9"
      },
      "execution_count": 22,
      "outputs": []
    },
    {
      "cell_type": "markdown",
      "source": [
        "## c.- Convertir los pesos de PyTorch al modelo Keras."
      ],
      "metadata": {
        "id": "QIbQAgkOf51f"
      }
    },
    {
      "cell_type": "code",
      "source": [
        "def convert_pytorch_to_keras(pytorch_weights, keras_model):\n",
        "    pytorch_keys = list(pytorch_weights.keys())  # Claves de los pesos en PyTorch\n",
        "    keras_weights = []  # Lista para almacenar los pesos convertidos\n",
        "\n",
        "    # Iterar sobre las capas del modelo Keras\n",
        "    for layer in keras_model.layers:\n",
        "        if isinstance(layer, Dense):  # Solo procesar capas Dense\n",
        "            # Pesos de la capa densa\n",
        "            weight = pytorch_weights[pytorch_keys.pop(0)].cpu().numpy().T  # Transponer pesos\n",
        "            bias = pytorch_weights[pytorch_keys.pop(0)].cpu().numpy()  # Bias\n",
        "            keras_weights.append([weight, bias])\n",
        "        elif isinstance(layer, Dropout):\n",
        "            # Dropout no tiene pesos, ignorar\n",
        "            continue\n",
        "\n",
        "    # Asignar los pesos al modelo Keras\n",
        "    dense_layers = [layer for layer in keras_model.layers if isinstance(layer, Dense)]  # Filtrar solo capas Dense\n",
        "    for layer, weights in zip(dense_layers, keras_weights):\n",
        "        layer.set_weights(weights)  # Asignar pesos únicamente a las capas Dense\n",
        "\n",
        "    return keras_model\n"
      ],
      "metadata": {
        "id": "5lYBFDubf59q"
      },
      "execution_count": 23,
      "outputs": []
    },
    {
      "cell_type": "markdown",
      "source": [
        "## d.- Cargar los pesos del archivo guardado."
      ],
      "metadata": {
        "id": "cMr8GYl34Dk2"
      }
    },
    {
      "cell_type": "code",
      "source": [
        "# Cargar los pesos del modelo guardado en PyTorch\n",
        "pytorch_weights = torch.load(\"/content/pytorch_model.pth\")\n",
        "print(\"Pesos del modelo PyTorch cargados correctamente\")"
      ],
      "metadata": {
        "colab": {
          "base_uri": "https://localhost:8080/"
        },
        "id": "rkyfq9Vc4DzS",
        "outputId": "c48c41e4-5812-4721-c34d-ed4e6dd842bd"
      },
      "execution_count": 25,
      "outputs": [
        {
          "output_type": "stream",
          "name": "stdout",
          "text": [
            "Pesos del modelo PyTorch cargados correctamente\n"
          ]
        },
        {
          "output_type": "stream",
          "name": "stderr",
          "text": [
            "<ipython-input-25-af6f2f127686>:2: FutureWarning: You are using `torch.load` with `weights_only=False` (the current default value), which uses the default pickle module implicitly. It is possible to construct malicious pickle data which will execute arbitrary code during unpickling (See https://github.com/pytorch/pytorch/blob/main/SECURITY.md#untrusted-models for more details). In a future release, the default value for `weights_only` will be flipped to `True`. This limits the functions that could be executed during unpickling. Arbitrary objects will no longer be allowed to be loaded via this mode unless they are explicitly allowlisted by the user via `torch.serialization.add_safe_globals`. We recommend you start setting `weights_only=True` for any use case where you don't have full control of the loaded file. Please open an issue on GitHub for any issues related to this experimental feature.\n",
            "  pytorch_weights = torch.load(\"/content/pytorch_model.pth\")\n"
          ]
        }
      ]
    },
    {
      "cell_type": "markdown",
      "source": [
        "## e.- Después de cargar los pesos correctamente, ejecuta el código para convertirlos y asignarlos al modelo Keras:"
      ],
      "metadata": {
        "id": "yo2oO6Xx4EJ6"
      }
    },
    {
      "cell_type": "code",
      "source": [
        "# Convertir y asignar los pesos corregidos\n",
        "keras_model = convert_pytorch_to_keras(pytorch_weights, keras_model)\n",
        "\n",
        "# Guardar el modelo en formato Keras (.h5)\n",
        "keras_model.save(\"keras_model.keras\")\n",
        "print(\"Modelo Keras guardado como keras_model.keras\")\n",
        "\n",
        "# Descargar una copia del modelo a tu máquina local\n",
        "files.download(\"keras_model.keras\")\n"
      ],
      "metadata": {
        "colab": {
          "base_uri": "https://localhost:8080/",
          "height": 35
        },
        "collapsed": true,
        "id": "cWzVtTcaf6Nz",
        "outputId": "4d58a1bb-87c0-4333-c8eb-2a8549dd97d3"
      },
      "execution_count": 27,
      "outputs": [
        {
          "output_type": "stream",
          "name": "stdout",
          "text": [
            "Modelo Keras guardado como keras_model.keras\n"
          ]
        },
        {
          "output_type": "display_data",
          "data": {
            "text/plain": [
              "<IPython.core.display.Javascript object>"
            ],
            "application/javascript": [
              "\n",
              "    async function download(id, filename, size) {\n",
              "      if (!google.colab.kernel.accessAllowed) {\n",
              "        return;\n",
              "      }\n",
              "      const div = document.createElement('div');\n",
              "      const label = document.createElement('label');\n",
              "      label.textContent = `Downloading \"${filename}\": `;\n",
              "      div.appendChild(label);\n",
              "      const progress = document.createElement('progress');\n",
              "      progress.max = size;\n",
              "      div.appendChild(progress);\n",
              "      document.body.appendChild(div);\n",
              "\n",
              "      const buffers = [];\n",
              "      let downloaded = 0;\n",
              "\n",
              "      const channel = await google.colab.kernel.comms.open(id);\n",
              "      // Send a message to notify the kernel that we're ready.\n",
              "      channel.send({})\n",
              "\n",
              "      for await (const message of channel.messages) {\n",
              "        // Send a message to notify the kernel that we're ready.\n",
              "        channel.send({})\n",
              "        if (message.buffers) {\n",
              "          for (const buffer of message.buffers) {\n",
              "            buffers.push(buffer);\n",
              "            downloaded += buffer.byteLength;\n",
              "            progress.value = downloaded;\n",
              "          }\n",
              "        }\n",
              "      }\n",
              "      const blob = new Blob(buffers, {type: 'application/binary'});\n",
              "      const a = document.createElement('a');\n",
              "      a.href = window.URL.createObjectURL(blob);\n",
              "      a.download = filename;\n",
              "      div.appendChild(a);\n",
              "      a.click();\n",
              "      div.remove();\n",
              "    }\n",
              "  "
            ]
          },
          "metadata": {}
        },
        {
          "output_type": "display_data",
          "data": {
            "text/plain": [
              "<IPython.core.display.Javascript object>"
            ],
            "application/javascript": [
              "download(\"download_3c5e7a71-213f-48c4-b7e3-ba2dfdc53875\", \"keras_model.keras\", 29035)"
            ]
          },
          "metadata": {}
        }
      ]
    },
    {
      "cell_type": "markdown",
      "source": [
        "## e.- Carga el modelo guardado y verifica que funcione correctamente en datos de prueba:"
      ],
      "metadata": {
        "id": "PFIhF2Qshh6Y"
      }
    },
    {
      "cell_type": "code",
      "source": [
        "from tensorflow.keras.models import load_model\n",
        "\n",
        "# Cargar el modelo Keras\n",
        "loaded_model = load_model(\"/content/keras_model.keras\")\n",
        "\n",
        "# Realizar predicciones en el conjunto de prueba\n",
        "predictions = loaded_model.predict(X_test)\n",
        "print(predictions[:10])  # Mostrar las primeras 10 predicciones"
      ],
      "metadata": {
        "colab": {
          "base_uri": "https://localhost:8080/"
        },
        "id": "J_JYLy3XhiDd",
        "outputId": "087e7b5a-3c8c-4011-bb29-57ef903c0d0c"
      },
      "execution_count": 29,
      "outputs": [
        {
          "output_type": "stream",
          "name": "stdout",
          "text": [
            "\u001b[1m79431/79431\u001b[0m \u001b[32m━━━━━━━━━━━━━━━━━━━━\u001b[0m\u001b[37m\u001b[0m \u001b[1m119s\u001b[0m 1ms/step\n",
            "[[9.5249993e-07]\n",
            " [1.0000000e+00]\n",
            " [9.9974853e-01]\n",
            " [0.0000000e+00]\n",
            " [1.0000000e+00]\n",
            " [0.0000000e+00]\n",
            " [1.3690405e-07]\n",
            " [1.7004400e-09]\n",
            " [1.0000000e+00]\n",
            " [9.9951410e-01]]\n"
          ]
        }
      ]
    },
    {
      "cell_type": "markdown",
      "source": [
        "# *9.- Pruebas en modelo KERAS*\n",
        "## a.- Predicciones vs. Valores Reales\n",
        "Visualiza las predicciones comparadas con los valores reales (etiquetas verdaderas)."
      ],
      "metadata": {
        "id": "5UtHyOmz58xT"
      }
    },
    {
      "cell_type": "code",
      "source": [
        "# Convertir predicciones a etiquetas binarias\n",
        "predicted_labels = (predictions > 0.5).astype(int).flatten()\n",
        "\n",
        "# Gráfico de comparación entre predicciones y valores reales\n",
        "plt.figure(figsize=(12, 6))\n",
        "plt.plot(y_test[:100].reset_index(drop=True), label=\"Valores Reales\", marker='o', linestyle='', alpha=0.6)\n",
        "plt.plot(predicted_labels[:100], label=\"Predicciones\", marker='x', linestyle='', alpha=0.6)\n",
        "plt.title(\"Comparación de Predicciones y Valores Reales (Primeras 100 muestras)\")\n",
        "plt.xlabel(\"Índice\")\n",
        "plt.ylabel(\"Clase (0 = No Fraude, 1 = Fraude)\")\n",
        "plt.legend()\n",
        "plt.show()\n"
      ],
      "metadata": {
        "colab": {
          "base_uri": "https://localhost:8080/",
          "height": 565
        },
        "id": "f7dlUQpQ589R",
        "outputId": "c3a80581-cc00-4d09-ab0a-b367ee1785a1"
      },
      "execution_count": 32,
      "outputs": [
        {
          "output_type": "display_data",
          "data": {
            "text/plain": [
              "<Figure size 1200x600 with 1 Axes>"
            ],
            "image/png": "[encoded data removed]"
          },
          "metadata": {}
        }
      ]
    },
    {
      "cell_type": "markdown",
      "source": [
        "## b.- Matriz de Confusión\n",
        "La matriz de confusión te muestra los verdaderos positivos, verdaderos negativos, falsos positivos y falsos negativos."
      ],
      "metadata": {
        "id": "rUJj3EjE59Ji"
      }
    },
    {
      "cell_type": "code",
      "source": [
        "# Crear la matriz de confusión\n",
        "cm = confusion_matrix(y_test, predicted_labels)\n",
        "\n",
        "# Graficar la matriz de confusión\n",
        "plt.figure(figsize=(8, 6))\n",
        "sns.heatmap(cm, annot=True, fmt='d', cmap='Blues', xticklabels=[\"No Fraude\", \"Fraude\"], yticklabels=[\"No Fraude\", \"Fraude\"])\n",
        "plt.title(\"Matriz de Confusión\")\n",
        "plt.xlabel(\"Predicciones\")\n",
        "plt.ylabel(\"Valores Reales\")\n",
        "plt.show()"
      ],
      "metadata": {
        "colab": {
          "base_uri": "https://localhost:8080/",
          "height": 564
        },
        "id": "WiU0A6Sa59Um",
        "outputId": "a25aaa41-fe14-48c3-c457-97395aa97fb2"
      },
      "execution_count": 33,
      "outputs": [
        {
          "output_type": "display_data",
          "data": {
            "text/plain": [
              "<Figure size 800x600 with 2 Axes>"
            ],
            "image/png": "[encoded data removed]"
          },
          "metadata": {}
        }
      ]
    },
    {
      "cell_type": "markdown",
      "source": [
        "## c.- Distribución de Probabilidades de Predicción*\n",
        "Visualiza las probabilidades predichas por el modelo para entender mejor cómo se clasifican los datos."
      ],
      "metadata": {
        "id": "1_HfOeID59ch"
      }
    },
    {
      "cell_type": "code",
      "source": [
        "# Graficar distribución de probabilidades\n",
        "plt.figure(figsize=(8, 6))\n",
        "plt.hist(predictions, bins=50, alpha=0.7, label=\"Probabilidades Predichas\", color=\"skyblue\")\n",
        "plt.axvline(0.5, color='red', linestyle='--', label=\"Umbral = 0.5\")\n",
        "plt.title(\"Distribución de las Probabilidades Predichas\")\n",
        "plt.xlabel(\"Probabilidad\")\n",
        "plt.ylabel(\"Frecuencia\")\n",
        "plt.legend()\n",
        "plt.show()"
      ],
      "metadata": {
        "colab": {
          "base_uri": "https://localhost:8080/",
          "height": 564
        },
        "id": "gioKSFWI59lP",
        "outputId": "8535fca4-dc05-4862-cca0-98fdf0564762"
      },
      "execution_count": 35,
      "outputs": [
        {
          "output_type": "display_data",
          "data": {
            "text/plain": [
              "<Figure size 800x600 with 1 Axes>"
            ],
            "image/png": "[encoded data removed]"
          },
          "metadata": {}
        }
      ]
    },
    {
      "cell_type": "markdown",
      "source": [
        "# d.- Análisis de los Errores\n",
        "Identifica cuáles son las muestras que el modelo predijo incorrectamente y visualízalas."
      ],
      "metadata": {
        "id": "dUnb22rZ7Ct1"
      }
    },
    {
      "cell_type": "code",
      "source": [
        "# Encontrar índices donde las predicciones fueron incorrectas\n",
        "incorrect_indices = np.where(predicted_labels != y_test.reset_index(drop=True))[0]\n",
        "\n",
        "# Mostrar algunas de las muestras mal clasificadas\n",
        "print(f\"Cantidad de errores: {len(incorrect_indices)}\")\n",
        "print(f\"Primeras 5 muestras mal clasificadas:\")\n",
        "for i in incorrect_indices[:5]:\n",
        "    print(f\"Índice: {i}, Probabilidad Predicha: {predictions[i][0]:.2f}, Clase Real: {y_test.values[i]}\")"
      ],
      "metadata": {
        "colab": {
          "base_uri": "https://localhost:8080/"
        },
        "id": "7bqgizz27C6K",
        "outputId": "493fe7a0-38eb-4a83-b595-83e7832ef857"
      },
      "execution_count": 36,
      "outputs": [
        {
          "output_type": "stream",
          "name": "stdout",
          "text": [
            "Cantidad de errores: 12802\n",
            "Primeras 5 muestras mal clasificadas:\n",
            "Índice: 671, Probabilidad Predicha: 0.77, Clase Real: 0\n",
            "Índice: 679, Probabilidad Predicha: 0.06, Clase Real: 1\n",
            "Índice: 1504, Probabilidad Predicha: 0.05, Clase Real: 1\n",
            "Índice: 1516, Probabilidad Predicha: 0.70, Clase Real: 0\n",
            "Índice: 1683, Probabilidad Predicha: 0.12, Clase Real: 1\n"
          ]
        }
      ]
    }
  ],
  "metadata": {
    "colab": {
      "provenance": [],
      "authorship_tag": "ABX9TyPgE63cl3VCCmtYRIyos+Va",
      "include_colab_link": true
    },
    "kernelspec": {
      "display_name": "Python 3",
      "name": "python3"
    },
    "language_info": {
      "name": "python"
    }
  },
  "nbformat": 4,
  "nbformat_minor": 0
}