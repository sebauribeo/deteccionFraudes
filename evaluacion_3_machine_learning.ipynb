{
  "cells": [
    {
      "cell_type": "markdown",
      "metadata": {
        "id": "view-in-github",
        "colab_type": "text"
      },
      "source": [
        "<a href=\"https://colab.research.google.com/github/sebauribeo/deteccionFraudes/blob/Staging/evaluacion_3_machine_learning.ipynb\" target=\"_parent\"><img src=\"https://colab.research.google.com/assets/colab-badge.svg\" alt=\"Open In Colab\"/></a>"
      ]
    },
    {
      "cell_type": "markdown",
      "metadata": {
        "id": "s850I5QbUZ4V"
      },
      "source": [
        "# *1.- Importación de Librerías y Carga de Datos*"
      ]
    },
    {
      "cell_type": "markdown",
      "metadata": {
        "id": "6ObZbeJGzuTn"
      },
      "source": [
        "En esta sección, importamos todas las librerías necesarias para el análisis de datos, preprocesamiento, modelado y evaluación. También cargamos el conjunto de datos que utilizaremos para entrenar y probar nuestro modelo."
      ]
    },
    {
      "cell_type": "code",
      "execution_count": 1,
      "metadata": {
        "id": "ZyjBLvwaUaG5",
        "colab": {
          "base_uri": "https://localhost:8080/"
        },
        "outputId": "0afc2e5e-381b-46f9-e18e-0a66d8b47537"
      },
      "outputs": [
        {
          "output_type": "stream",
          "name": "stdout",
          "text": [
            "Requirement already satisfied: catboost in /usr/local/lib/python3.10/dist-packages (1.2.7)\n",
            "Requirement already satisfied: graphviz in /usr/local/lib/python3.10/dist-packages (from catboost) (0.20.3)\n",
            "Requirement already satisfied: matplotlib in /usr/local/lib/python3.10/dist-packages (from catboost) (3.8.0)\n",
            "Requirement already satisfied: numpy<2.0,>=1.16.0 in /usr/local/lib/python3.10/dist-packages (from catboost) (1.26.4)\n",
            "Requirement already satisfied: pandas>=0.24 in /usr/local/lib/python3.10/dist-packages (from catboost) (2.2.2)\n",
            "Requirement already satisfied: scipy in /usr/local/lib/python3.10/dist-packages (from catboost) (1.13.1)\n",
            "Requirement already satisfied: plotly in /usr/local/lib/python3.10/dist-packages (from catboost) (5.24.1)\n",
            "Requirement already satisfied: six in /usr/local/lib/python3.10/dist-packages (from catboost) (1.16.0)\n",
            "Requirement already satisfied: python-dateutil>=2.8.2 in /usr/local/lib/python3.10/dist-packages (from pandas>=0.24->catboost) (2.8.2)\n",
            "Requirement already satisfied: pytz>=2020.1 in /usr/local/lib/python3.10/dist-packages (from pandas>=0.24->catboost) (2024.2)\n",
            "Requirement already satisfied: tzdata>=2022.7 in /usr/local/lib/python3.10/dist-packages (from pandas>=0.24->catboost) (2024.2)\n",
            "Requirement already satisfied: contourpy>=1.0.1 in /usr/local/lib/python3.10/dist-packages (from matplotlib->catboost) (1.3.1)\n",
            "Requirement already satisfied: cycler>=0.10 in /usr/local/lib/python3.10/dist-packages (from matplotlib->catboost) (0.12.1)\n",
            "Requirement already satisfied: fonttools>=4.22.0 in /usr/local/lib/python3.10/dist-packages (from matplotlib->catboost) (4.55.0)\n",
            "Requirement already satisfied: kiwisolver>=1.0.1 in /usr/local/lib/python3.10/dist-packages (from matplotlib->catboost) (1.4.7)\n",
            "Requirement already satisfied: packaging>=20.0 in /usr/local/lib/python3.10/dist-packages (from matplotlib->catboost) (24.2)\n",
            "Requirement already satisfied: pillow>=6.2.0 in /usr/local/lib/python3.10/dist-packages (from matplotlib->catboost) (11.0.0)\n",
            "Requirement already satisfied: pyparsing>=2.3.1 in /usr/local/lib/python3.10/dist-packages (from matplotlib->catboost) (3.2.0)\n",
            "Requirement already satisfied: tenacity>=6.2.0 in /usr/local/lib/python3.10/dist-packages (from plotly->catboost) (9.0.0)\n"
          ]
        }
      ],
      "source": [
        "!pip install catboost\n",
        "\n",
        "# Importar librerías esenciales para manejo de datos y visualización\n",
        "import pandas as pd  # Manejo de datos en formato tabular\n",
        "import numpy as np  # Operaciones numéricas\n",
        "import matplotlib.pyplot as plt  # Generación de gráficos\n",
        "import seaborn as sns  # Gráficos avanzados basados en Matplotlib\n",
        "\n",
        "# Librerías para preprocesamiento y modelos clásicos\n",
        "from sklearn.preprocessing import LabelEncoder, StandardScaler  # Codificación y escalado de datos\n",
        "from sklearn.model_selection import train_test_split  # División de datos en entrenamiento y prueba\n",
        "from sklearn.metrics import classification_report, confusion_matrix  # Métricas para evaluar modelos\n",
        "\n",
        "# Librería para manejo del desbalanceo de clases\n",
        "from imblearn.over_sampling import SMOTE  # Generación de datos sintéticos para balancear clases\n",
        "\n",
        "# Librerías de PyTorch para redes neuronales\n",
        "import torch  # Biblioteca principal de PyTorch\n",
        "import torch.nn as nn  # Definición de redes neuronales\n",
        "from torch.utils.data import TensorDataset, DataLoader  # Manejo eficiente de datasets y minibatches\n",
        "\n",
        "# Importación de modelos clásicos\n",
        "from sklearn.linear_model import LogisticRegression  # Regresión logística\n",
        "from sklearn.tree import DecisionTreeClassifier  # Árbol de decisión\n",
        "from catboost import CatBoostClassifier  # Modelo avanzado de CatBoost\n",
        "\n",
        "# Cargar el dataset\n",
        "data = pd.read_csv('/content/financial_dataset.csv')"
      ]
    },
    {
      "cell_type": "markdown",
      "metadata": {
        "id": "df1rkc4lUaUB"
      },
      "source": [
        "# *2.- Preprocesamiento de Datos*\n",
        "En esta sección, realizamos un análisis inicial de los datos, manejamos valores faltantes y codificamos variables categóricas. Creamos características adicionales que pueden ser útiles para el modelo y seleccionamos las características relevantes. Finalmente, estandarizamos los datos para prepararlos para el entrenamiento.\n",
        "## a.- Exploración Inicial"
      ]
    },
    {
      "cell_type": "code",
      "execution_count": 2,
      "metadata": {
        "id": "a7B-Im9AUacz",
        "colab": {
          "base_uri": "https://localhost:8080/",
          "height": 206
        },
        "outputId": "5fe58c4b-0935-4943-ae40-89b56edf1c1f"
      },
      "outputs": [
        {
          "output_type": "execute_result",
          "data": {
            "text/plain": [
              "   step      type    amount     nameOrig  oldbalanceOrg  newbalanceOrig  \\\n",
              "0     1   PAYMENT   9839.64  C1231006815       170136.0       160296.36   \n",
              "1     1   PAYMENT   1864.28  C1666544295        21249.0        19384.72   \n",
              "2     1  TRANSFER    181.00  C1305486145          181.0            0.00   \n",
              "3     1  CASH_OUT    181.00   C840083671          181.0            0.00   \n",
              "4     1   PAYMENT  11668.14  C2048537720        41554.0        29885.86   \n",
              "\n",
              "      nameDest  oldbalanceDest  newbalanceDest  isFraud  isFlaggedFraud  \n",
              "0  M1979787155             0.0             0.0        0               0  \n",
              "1  M2044282225             0.0             0.0        0               0  \n",
              "2   C553264065             0.0             0.0        1               0  \n",
              "3    C38997010         21182.0             0.0        1               0  \n",
              "4  M1230701703             0.0             0.0        0               0  "
            ],
            "text/html": [
              "\n",
              "  <div id=\"df-9e1e838c-6569-4243-a58b-750eff0dffb4\" class=\"colab-df-container\">\n",
              "    <div>\n",
              "<style scoped>\n",
              "    .dataframe tbody tr th:only-of-type {\n",
              "        vertical-align: middle;\n",
              "    }\n",
              "\n",
              "    .dataframe tbody tr th {\n",
              "        vertical-align: top;\n",
              "    }\n",
              "\n",
              "    .dataframe thead th {\n",
              "        text-align: right;\n",
              "    }\n",
              "</style>\n",
              "<table border=\"1\" class=\"dataframe\">\n",
              "  <thead>\n",
              "    <tr style=\"text-align: right;\">\n",
              "      <th></th>\n",
              "      <th>step</th>\n",
              "      <th>type</th>\n",
              "      <th>amount</th>\n",
              "      <th>nameOrig</th>\n",
              "      <th>oldbalanceOrg</th>\n",
              "      <th>newbalanceOrig</th>\n",
              "      <th>nameDest</th>\n",
              "      <th>oldbalanceDest</th>\n",
              "      <th>newbalanceDest</th>\n",
              "      <th>isFraud</th>\n",
              "      <th>isFlaggedFraud</th>\n",
              "    </tr>\n",
              "  </thead>\n",
              "  <tbody>\n",
              "    <tr>\n",
              "      <th>0</th>\n",
              "      <td>1</td>\n",
              "      <td>PAYMENT</td>\n",
              "      <td>9839.64</td>\n",
              "      <td>C1231006815</td>\n",
              "      <td>170136.0</td>\n",
              "      <td>160296.36</td>\n",
              "      <td>M1979787155</td>\n",
              "      <td>0.0</td>\n",
              "      <td>0.0</td>\n",
              "      <td>0</td>\n",
              "      <td>0</td>\n",
              "    </tr>\n",
              "    <tr>\n",
              "      <th>1</th>\n",
              "      <td>1</td>\n",
              "      <td>PAYMENT</td>\n",
              "      <td>1864.28</td>\n",
              "      <td>C1666544295</td>\n",
              "      <td>21249.0</td>\n",
              "      <td>19384.72</td>\n",
              "      <td>M2044282225</td>\n",
              "      <td>0.0</td>\n",
              "      <td>0.0</td>\n",
              "      <td>0</td>\n",
              "      <td>0</td>\n",
              "    </tr>\n",
              "    <tr>\n",
              "      <th>2</th>\n",
              "      <td>1</td>\n",
              "      <td>TRANSFER</td>\n",
              "      <td>181.00</td>\n",
              "      <td>C1305486145</td>\n",
              "      <td>181.0</td>\n",
              "      <td>0.00</td>\n",
              "      <td>C553264065</td>\n",
              "      <td>0.0</td>\n",
              "      <td>0.0</td>\n",
              "      <td>1</td>\n",
              "      <td>0</td>\n",
              "    </tr>\n",
              "    <tr>\n",
              "      <th>3</th>\n",
              "      <td>1</td>\n",
              "      <td>CASH_OUT</td>\n",
              "      <td>181.00</td>\n",
              "      <td>C840083671</td>\n",
              "      <td>181.0</td>\n",
              "      <td>0.00</td>\n",
              "      <td>C38997010</td>\n",
              "      <td>21182.0</td>\n",
              "      <td>0.0</td>\n",
              "      <td>1</td>\n",
              "      <td>0</td>\n",
              "    </tr>\n",
              "    <tr>\n",
              "      <th>4</th>\n",
              "      <td>1</td>\n",
              "      <td>PAYMENT</td>\n",
              "      <td>11668.14</td>\n",
              "      <td>C2048537720</td>\n",
              "      <td>41554.0</td>\n",
              "      <td>29885.86</td>\n",
              "      <td>M1230701703</td>\n",
              "      <td>0.0</td>\n",
              "      <td>0.0</td>\n",
              "      <td>0</td>\n",
              "      <td>0</td>\n",
              "    </tr>\n",
              "  </tbody>\n",
              "</table>\n",
              "</div>\n",
              "    <div class=\"colab-df-buttons\">\n",
              "\n",
              "  <div class=\"colab-df-container\">\n",
              "    <button class=\"colab-df-convert\" onclick=\"convertToInteractive('df-9e1e838c-6569-4243-a58b-750eff0dffb4')\"\n",
              "            title=\"Convert this dataframe to an interactive table.\"\n",
              "            style=\"display:none;\">\n",
              "\n",
              "  <svg xmlns=\"http://www.w3.org/2000/svg\" height=\"24px\" viewBox=\"0 -960 960 960\">\n",
              "    <path d=\"M120-120v-720h720v720H120Zm60-500h600v-160H180v160Zm220 220h160v-160H400v160Zm0 220h160v-160H400v160ZM180-400h160v-160H180v160Zm440 0h160v-160H620v160ZM180-180h160v-160H180v160Zm440 0h160v-160H620v160Z\"/>\n",
              "  </svg>\n",
              "    </button>\n",
              "\n",
              "  <style>\n",
              "    .colab-df-container {\n",
              "      display:flex;\n",
              "      gap: 12px;\n",
              "    }\n",
              "\n",
              "    .colab-df-convert {\n",
              "      background-color: #E8F0FE;\n",
              "      border: none;\n",
              "      border-radius: 50%;\n",
              "      cursor: pointer;\n",
              "      display: none;\n",
              "      fill: #1967D2;\n",
              "      height: 32px;\n",
              "      padding: 0 0 0 0;\n",
              "      width: 32px;\n",
              "    }\n",
              "\n",
              "    .colab-df-convert:hover {\n",
              "      background-color: #E2EBFA;\n",
              "      box-shadow: 0px 1px 2px rgba(60, 64, 67, 0.3), 0px 1px 3px 1px rgba(60, 64, 67, 0.15);\n",
              "      fill: #174EA6;\n",
              "    }\n",
              "\n",
              "    .colab-df-buttons div {\n",
              "      margin-bottom: 4px;\n",
              "    }\n",
              "\n",
              "    [theme=dark] .colab-df-convert {\n",
              "      background-color: #3B4455;\n",
              "      fill: #D2E3FC;\n",
              "    }\n",
              "\n",
              "    [theme=dark] .colab-df-convert:hover {\n",
              "      background-color: #434B5C;\n",
              "      box-shadow: 0px 1px 3px 1px rgba(0, 0, 0, 0.15);\n",
              "      filter: drop-shadow(0px 1px 2px rgba(0, 0, 0, 0.3));\n",
              "      fill: #FFFFFF;\n",
              "    }\n",
              "  </style>\n",
              "\n",
              "    <script>\n",
              "      const buttonEl =\n",
              "        document.querySelector('#df-9e1e838c-6569-4243-a58b-750eff0dffb4 button.colab-df-convert');\n",
              "      buttonEl.style.display =\n",
              "        google.colab.kernel.accessAllowed ? 'block' : 'none';\n",
              "\n",
              "      async function convertToInteractive(key) {\n",
              "        const element = document.querySelector('#df-9e1e838c-6569-4243-a58b-750eff0dffb4');\n",
              "        const dataTable =\n",
              "          await google.colab.kernel.invokeFunction('convertToInteractive',\n",
              "                                                    [key], {});\n",
              "        if (!dataTable) return;\n",
              "\n",
              "        const docLinkHtml = 'Like what you see? Visit the ' +\n",
              "          '<a target=\"_blank\" href=https://colab.research.google.com/notebooks/data_table.ipynb>data table notebook</a>'\n",
              "          + ' to learn more about interactive tables.';\n",
              "        element.innerHTML = '';\n",
              "        dataTable['output_type'] = 'display_data';\n",
              "        await google.colab.output.renderOutput(dataTable, element);\n",
              "        const docLink = document.createElement('div');\n",
              "        docLink.innerHTML = docLinkHtml;\n",
              "        element.appendChild(docLink);\n",
              "      }\n",
              "    </script>\n",
              "  </div>\n",
              "\n",
              "\n",
              "<div id=\"df-1c00e6e6-b93e-4ab0-8d47-9c44aee8c9e7\">\n",
              "  <button class=\"colab-df-quickchart\" onclick=\"quickchart('df-1c00e6e6-b93e-4ab0-8d47-9c44aee8c9e7')\"\n",
              "            title=\"Suggest charts\"\n",
              "            style=\"display:none;\">\n",
              "\n",
              "<svg xmlns=\"http://www.w3.org/2000/svg\" height=\"24px\"viewBox=\"0 0 24 24\"\n",
              "     width=\"24px\">\n",
              "    <g>\n",
              "        <path d=\"M19 3H5c-1.1 0-2 .9-2 2v14c0 1.1.9 2 2 2h14c1.1 0 2-.9 2-2V5c0-1.1-.9-2-2-2zM9 17H7v-7h2v7zm4 0h-2V7h2v10zm4 0h-2v-4h2v4z\"/>\n",
              "    </g>\n",
              "</svg>\n",
              "  </button>\n",
              "\n",
              "<style>\n",
              "  .colab-df-quickchart {\n",
              "      --bg-color: #E8F0FE;\n",
              "      --fill-color: #1967D2;\n",
              "      --hover-bg-color: #E2EBFA;\n",
              "      --hover-fill-color: #174EA6;\n",
              "      --disabled-fill-color: #AAA;\n",
              "      --disabled-bg-color: #DDD;\n",
              "  }\n",
              "\n",
              "  [theme=dark] .colab-df-quickchart {\n",
              "      --bg-color: #3B4455;\n",
              "      --fill-color: #D2E3FC;\n",
              "      --hover-bg-color: #434B5C;\n",
              "      --hover-fill-color: #FFFFFF;\n",
              "      --disabled-bg-color: #3B4455;\n",
              "      --disabled-fill-color: #666;\n",
              "  }\n",
              "\n",
              "  .colab-df-quickchart {\n",
              "    background-color: var(--bg-color);\n",
              "    border: none;\n",
              "    border-radius: 50%;\n",
              "    cursor: pointer;\n",
              "    display: none;\n",
              "    fill: var(--fill-color);\n",
              "    height: 32px;\n",
              "    padding: 0;\n",
              "    width: 32px;\n",
              "  }\n",
              "\n",
              "  .colab-df-quickchart:hover {\n",
              "    background-color: var(--hover-bg-color);\n",
              "    box-shadow: 0 1px 2px rgba(60, 64, 67, 0.3), 0 1px 3px 1px rgba(60, 64, 67, 0.15);\n",
              "    fill: var(--button-hover-fill-color);\n",
              "  }\n",
              "\n",
              "  .colab-df-quickchart-complete:disabled,\n",
              "  .colab-df-quickchart-complete:disabled:hover {\n",
              "    background-color: var(--disabled-bg-color);\n",
              "    fill: var(--disabled-fill-color);\n",
              "    box-shadow: none;\n",
              "  }\n",
              "\n",
              "  .colab-df-spinner {\n",
              "    border: 2px solid var(--fill-color);\n",
              "    border-color: transparent;\n",
              "    border-bottom-color: var(--fill-color);\n",
              "    animation:\n",
              "      spin 1s steps(1) infinite;\n",
              "  }\n",
              "\n",
              "  @keyframes spin {\n",
              "    0% {\n",
              "      border-color: transparent;\n",
              "      border-bottom-color: var(--fill-color);\n",
              "      border-left-color: var(--fill-color);\n",
              "    }\n",
              "    20% {\n",
              "      border-color: transparent;\n",
              "      border-left-color: var(--fill-color);\n",
              "      border-top-color: var(--fill-color);\n",
              "    }\n",
              "    30% {\n",
              "      border-color: transparent;\n",
              "      border-left-color: var(--fill-color);\n",
              "      border-top-color: var(--fill-color);\n",
              "      border-right-color: var(--fill-color);\n",
              "    }\n",
              "    40% {\n",
              "      border-color: transparent;\n",
              "      border-right-color: var(--fill-color);\n",
              "      border-top-color: var(--fill-color);\n",
              "    }\n",
              "    60% {\n",
              "      border-color: transparent;\n",
              "      border-right-color: var(--fill-color);\n",
              "    }\n",
              "    80% {\n",
              "      border-color: transparent;\n",
              "      border-right-color: var(--fill-color);\n",
              "      border-bottom-color: var(--fill-color);\n",
              "    }\n",
              "    90% {\n",
              "      border-color: transparent;\n",
              "      border-bottom-color: var(--fill-color);\n",
              "    }\n",
              "  }\n",
              "</style>\n",
              "\n",
              "  <script>\n",
              "    async function quickchart(key) {\n",
              "      const quickchartButtonEl =\n",
              "        document.querySelector('#' + key + ' button');\n",
              "      quickchartButtonEl.disabled = true;  // To prevent multiple clicks.\n",
              "      quickchartButtonEl.classList.add('colab-df-spinner');\n",
              "      try {\n",
              "        const charts = await google.colab.kernel.invokeFunction(\n",
              "            'suggestCharts', [key], {});\n",
              "      } catch (error) {\n",
              "        console.error('Error during call to suggestCharts:', error);\n",
              "      }\n",
              "      quickchartButtonEl.classList.remove('colab-df-spinner');\n",
              "      quickchartButtonEl.classList.add('colab-df-quickchart-complete');\n",
              "    }\n",
              "    (() => {\n",
              "      let quickchartButtonEl =\n",
              "        document.querySelector('#df-1c00e6e6-b93e-4ab0-8d47-9c44aee8c9e7 button');\n",
              "      quickchartButtonEl.style.display =\n",
              "        google.colab.kernel.accessAllowed ? 'block' : 'none';\n",
              "    })();\n",
              "  </script>\n",
              "</div>\n",
              "\n",
              "    </div>\n",
              "  </div>\n"
            ],
            "application/vnd.google.colaboratory.intrinsic+json": {
              "type": "dataframe",
              "variable_name": "data"
            }
          },
          "metadata": {},
          "execution_count": 2
        }
      ],
      "source": [
        "# Visualizar las primeras filas del dataset\n",
        "data.head()"
      ]
    },
    {
      "cell_type": "markdown",
      "metadata": {
        "id": "V61EkslOXVwD"
      },
      "source": [
        "## b.- Manejo de Valores Faltantes"
      ]
    },
    {
      "cell_type": "code",
      "execution_count": 3,
      "metadata": {
        "id": "yBiI0ysHXWE-",
        "colab": {
          "base_uri": "https://localhost:8080/"
        },
        "outputId": "dc38bc6a-a2e4-49a8-e43a-858200954a97"
      },
      "outputs": [
        {
          "output_type": "stream",
          "name": "stdout",
          "text": [
            "Valores faltantes por columna:\n",
            "step              0\n",
            "type              0\n",
            "amount            0\n",
            "nameOrig          0\n",
            "oldbalanceOrg     0\n",
            "newbalanceOrig    0\n",
            "nameDest          0\n",
            "oldbalanceDest    0\n",
            "newbalanceDest    0\n",
            "isFraud           0\n",
            "isFlaggedFraud    0\n",
            "dtype: int64\n"
          ]
        }
      ],
      "source": [
        "# Verificar valores faltantes en cada columna\n",
        "print(\"Valores faltantes por columna:\")\n",
        "print(data.isnull().sum())\n",
        "\n",
        "# Eliminar filas con valores faltantes en 'isFraud'\n",
        "data = data.dropna(subset=['isFraud'])\n",
        "\n",
        "# Opcional: También podemos eliminar filas con valores faltantes en las características\n",
        "data = data.dropna()\n"
      ]
    },
    {
      "cell_type": "markdown",
      "metadata": {
        "id": "d19zWCeAUali"
      },
      "source": [
        "## c.- Codificación de Variables Categóricas"
      ]
    },
    {
      "cell_type": "code",
      "execution_count": 4,
      "metadata": {
        "id": "7kMEpBeBUas5"
      },
      "outputs": [],
      "source": [
        "# Crear una instancia de LabelEncoder para codificar variables categóricas\n",
        "label_encoder = LabelEncoder()\n",
        "\n",
        "# Codificar la columna 'type' y agregarla como una nueva columna 'type_encoded'\n",
        "data['type_encoded'] = label_encoder.fit_transform(data['type'])\n"
      ]
    },
    {
      "cell_type": "markdown",
      "metadata": {
        "id": "qTtEWp1pUa0g"
      },
      "source": [
        "## d.- Creación de Características Adicionales"
      ]
    },
    {
      "cell_type": "code",
      "execution_count": 5,
      "metadata": {
        "id": "L5Ap9GxBUa7g"
      },
      "outputs": [],
      "source": [
        "# Crear características adicionales basadas en los balances\n",
        "data['errorBalanceOrig'] = data['newbalanceOrig'] + data['amount'] - data['oldbalanceOrg']\n",
        "data['errorBalanceDest'] = data['oldbalanceDest'] + data['amount'] - data['newbalanceDest']"
      ]
    },
    {
      "cell_type": "markdown",
      "metadata": {
        "id": "s0vYOakEVty3"
      },
      "source": [
        "## e.- Selección de Características Relevantes"
      ]
    },
    {
      "cell_type": "code",
      "execution_count": 6,
      "metadata": {
        "id": "8m_uQMUVVt9y"
      },
      "outputs": [],
      "source": [
        "# Definir las características que se utilizarán para entrenar el modelo\n",
        "features = ['step', 'type_encoded', 'amount', 'oldbalanceOrg', 'newbalanceOrig',\n",
        "            'oldbalanceDest', 'newbalanceDest', 'errorBalanceOrig', 'errorBalanceDest']\n",
        "\n",
        "# Crear la matriz de características 'X' y el vector objetivo 'y'\n",
        "X = data[features]           # Características de entrada\n",
        "y = data['isFraud']          # Variable objetivo (0: no fraude, 1: fraude)"
      ]
    },
    {
      "cell_type": "markdown",
      "metadata": {
        "id": "efOUcz8sVuIn"
      },
      "source": [
        "## f.- Estandarización de Datos"
      ]
    },
    {
      "cell_type": "code",
      "execution_count": 7,
      "metadata": {
        "id": "so-5mqHFVuQa"
      },
      "outputs": [],
      "source": [
        "# Crear una instancia de StandardScaler para estandarizar las características\n",
        "scaler = StandardScaler()\n",
        "\n",
        "# Ajustar el escalador a los datos y transformar las características\n",
        "X_scaled = scaler.fit_transform(X)"
      ]
    },
    {
      "cell_type": "markdown",
      "metadata": {
        "id": "tAifpgcJVuXt"
      },
      "source": [
        "# *3. Análisis Exploratorio de Datos (EDA)*\n",
        "Exploramos la distribución de las clases y visualizamos la variable objetivo para detectar desbalances.\n",
        "## a.-Distribución de Clases"
      ]
    },
    {
      "cell_type": "code",
      "execution_count": 8,
      "metadata": {
        "id": "v8WOAu4dVugD",
        "colab": {
          "base_uri": "https://localhost:8080/",
          "height": 594
        },
        "outputId": "14cb5006-c998-4bac-e543-598ec90be655"
      },
      "outputs": [
        {
          "output_type": "stream",
          "name": "stdout",
          "text": [
            "\n",
            "Distribución de clases:\n",
            "isFraud\n",
            "0    6354407\n",
            "1       8213\n",
            "Name: count, dtype: int64\n"
          ]
        },
        {
          "output_type": "display_data",
          "data": {
            "text/plain": [
              "<Figure size 640x480 with 1 Axes>"
            ],
            "image/png": "[encoded data removed]"
          },
          "metadata": {}
        }
      ],
      "source": [
        "# Contar las clases en la variable objetivo ('isFraud')\n",
        "fraud_counts = data['isFraud'].value_counts()\n",
        "print(\"\\nDistribución de clases:\")\n",
        "print(fraud_counts)  # Mostrar la distribución de clases (fraude vs no fraude)\n",
        "\n",
        "# Visualizar la distribución de clases\n",
        "sns.countplot(x='isFraud', data=data)  # Crear un gráfico de barras\n",
        "plt.title('Distribución de Transacciones Fraudulentas vs No Fraudulentas')  # Título del gráfico\n",
        "plt.xlabel('Es Fraude (0 = No, 1 = Sí)')  # Etiqueta del eje X\n",
        "plt.ylabel('Cantidad de Transacciones')  # Etiqueta del eje Y\n",
        "plt.show()  # Mostrar el gráfico"
      ]
    },
    {
      "cell_type": "markdown",
      "metadata": {
        "id": "vlcSN1XiVu5J"
      },
      "source": [
        "# *4.- Manejo del Desbalance de Clases*\n",
        "Debido a que las transacciones fraudulentas son significativamente menos frecuentes que las no fraudulentas, utilizamos la técnica SMOTE (Synthetic Minority Over-sampling Technique) para balancear las clases y mejorar la capacidad del modelo para detectar fraudes."
      ]
    },
    {
      "cell_type": "code",
      "execution_count": 9,
      "metadata": {
        "id": "UobV_-pmVvBH",
        "colab": {
          "base_uri": "https://localhost:8080/",
          "height": 517
        },
        "outputId": "835f1899-9ed3-4b77-96a0-47ea22ffe44d"
      },
      "outputs": [
        {
          "output_type": "display_data",
          "data": {
            "text/plain": [
              "<Figure size 600x400 with 1 Axes>"
            ],
            "image/png": "[encoded data removed]"
          },
          "metadata": {}
        },
        {
          "output_type": "stream",
          "name": "stdout",
          "text": [
            "\n",
            "Desbalanceo corregido con SMOTE. Clases balanceadas.\n",
            "isFraud\n",
            "0    6354407\n",
            "1    6354407\n",
            "Name: count, dtype: int64\n"
          ]
        }
      ],
      "source": [
        "# Aplicar SMOTE para generar datos sintéticos y balancear las clases\n",
        "smote = SMOTE(random_state=42)  # Crear una instancia de SMOTE con semilla\n",
        "X_resampled, y_resampled = smote.fit_resample(X_scaled, y)  # Aplicar SMOTE a los datos\n",
        "\n",
        "# Visualizar la nueva distribución de clases balanceadas\n",
        "plt.figure(figsize=(6, 4))  # Configurar tamaño del gráfico\n",
        "sns.countplot(x=y_resampled)  # Crear un gráfico de barras para las clases balanceadas\n",
        "plt.title('Distribución Balanceada de Clases')  # Título del gráfico\n",
        "plt.xlabel('Es Fraude (0 = No, 1 = Sí)')  # Etiqueta del eje X\n",
        "plt.ylabel('Cantidad de Transacciones')  # Etiqueta del eje Y\n",
        "plt.show()  # Mostrar el gráfico\n",
        "\n",
        "# Mostrar conteo de clases después de balancear\n",
        "print(\"\\nDesbalanceo corregido con SMOTE. Clases balanceadas.\")\n",
        "print(pd.Series(y_resampled).value_counts())  # Imprimir la nueva distribución de clases"
      ]
    },
    {
      "cell_type": "markdown",
      "metadata": {
        "id": "-XZ8NW5JVvL1"
      },
      "source": [
        "# *5.- Evaluación con Modelos Clásicos de Machine Learning*\n",
        "Entrenamos y evaluamos modelos clásicos de machine learning."
      ]
    },
    {
      "cell_type": "code",
      "execution_count": 10,
      "metadata": {
        "id": "SQpfRRfHVvUx",
        "colab": {
          "base_uri": "https://localhost:8080/"
        },
        "outputId": "d746c7d1-6c59-468d-d930-34b1902a1ae1"
      },
      "outputs": [
        {
          "output_type": "stream",
          "name": "stdout",
          "text": [
            "\n",
            "Evaluando modelo: Regresión Logística\n",
            "              precision    recall  f1-score   support\n",
            "\n",
            "           0       0.89      0.96      0.93   1270882\n",
            "           1       0.96      0.88      0.92   1270881\n",
            "\n",
            "    accuracy                           0.92   2541763\n",
            "   macro avg       0.93      0.92      0.92   2541763\n",
            "weighted avg       0.93      0.92      0.92   2541763\n",
            "\n",
            "\n",
            "Evaluando modelo: Árbol de Decisión\n",
            "              precision    recall  f1-score   support\n",
            "\n",
            "           0       1.00      1.00      1.00   1270882\n",
            "           1       1.00      1.00      1.00   1270881\n",
            "\n",
            "    accuracy                           1.00   2541763\n",
            "   macro avg       1.00      1.00      1.00   2541763\n",
            "weighted avg       1.00      1.00      1.00   2541763\n",
            "\n",
            "\n",
            "Evaluando modelo: CatBoost\n",
            "              precision    recall  f1-score   support\n",
            "\n",
            "           0       1.00      1.00      1.00   1270882\n",
            "           1       1.00      1.00      1.00   1270881\n",
            "\n",
            "    accuracy                           1.00   2541763\n",
            "   macro avg       1.00      1.00      1.00   2541763\n",
            "weighted avg       1.00      1.00      1.00   2541763\n",
            "\n"
          ]
        }
      ],
      "source": [
        "# Definir los modelos clásicos para evaluar\n",
        "models = {\n",
        "    'Regresión Logística': LogisticRegression(),  # Regresión Logística\n",
        "    'Árbol de Decisión': DecisionTreeClassifier(),  # Árbol de Decisión\n",
        "    'CatBoost': CatBoostClassifier(iterations=100, learning_rate=0.1, verbose=0)  # CatBoost\n",
        "}\n",
        "\n",
        "# Dividir los datos balanceados en conjuntos de entrenamiento y prueba\n",
        "X_train_classic, X_test_classic, y_train_classic, y_test_classic = train_test_split(\n",
        "    X_resampled, y_resampled, test_size=0.2, random_state=42, stratify=y_resampled  # Mantener proporciones balanceadas\n",
        ")\n",
        "\n",
        "# Evaluar cada modelo clásico\n",
        "for name, model in models.items():\n",
        "    print(f\"\\nEvaluando modelo: {name}\")  # Imprimir el nombre del modelo\n",
        "    model.fit(X_train_classic, y_train_classic)  # Entrenar el modelo con datos de entrenamiento\n",
        "    y_pred = model.predict(X_test_classic)  # Predecir en el conjunto de prueba\n",
        "\n",
        "    # Mostrar el reporte de clasificación\n",
        "    print(classification_report(y_test_classic, y_pred))  # Métricas de precisión, recall y F1-score"
      ]
    },
    {
      "cell_type": "markdown",
      "source": [
        "# *6.- Preparación de Datos para PyTorch*\n",
        "Convertimos los datos balanceados en tensores para entrenar modelos de PyTorch.\n",
        "\n"
      ],
      "metadata": {
        "id": "uNamb6JGNGcy"
      }
    },
    {
      "cell_type": "code",
      "source": [
        "# Dividir los datos balanceados para PyTorch\n",
        "X_train, X_test, y_train, y_test = train_test_split(\n",
        "    X_resampled, y_resampled, test_size=0.2, random_state=42, stratify=y_resampled\n",
        ")\n",
        "\n",
        "# Convertir las matrices en tensores para PyTorch\n",
        "X_train_tensor = torch.tensor(X_train, dtype=torch.float32)  # Tensor para características de entrenamiento\n",
        "y_train_tensor = torch.tensor(y_train.values, dtype=torch.float32)  # Tensor para etiquetas de entrenamiento\n",
        "X_test_tensor = torch.tensor(X_test, dtype=torch.float32)  # Tensor para características de prueba\n",
        "y_test_tensor = torch.tensor(y_test.values, dtype=torch.float32)  # Tensor para etiquetas de prueba\n",
        "\n",
        "# Crear DataLoaders para manejar los datos en minibatches\n",
        "train_dataset = TensorDataset(X_train_tensor, y_train_tensor)  # Dataset para entrenamiento\n",
        "test_dataset = TensorDataset(X_test_tensor, y_test_tensor)  # Dataset para prueba\n",
        "batch_size = 64  # Tamaño de lote\n",
        "train_loader = DataLoader(train_dataset, batch_size=batch_size, shuffle=True)  # DataLoader de entrenamiento\n",
        "test_loader = DataLoader(test_dataset, batch_size=batch_size, shuffle=False)  # DataLoader de prueba"
      ],
      "metadata": {
        "id": "QGnpBMkjNGlo"
      },
      "execution_count": 11,
      "outputs": []
    },
    {
      "cell_type": "markdown",
      "metadata": {
        "id": "J-40FBfvVvdH"
      },
      "source": [
        "# *7.- Entrenamiento del Modelo PyTorch*\n",
        "## a.- Definir la arquitectura del modelo."
      ]
    },
    {
      "cell_type": "code",
      "source": [
        "# Definir el modelo de detección de fraudes\n",
        "class FraudDetectionModel(nn.Module):\n",
        "    def __init__(self):\n",
        "        super(FraudDetectionModel, self).__init__()\n",
        "        self.model = nn.Sequential(\n",
        "            nn.Linear(X_train.shape[1], 64),  # Capa de entrada con 64 neuronas\n",
        "            nn.ReLU(),  # Activación ReLU\n",
        "            nn.Dropout(0.2),  # Dropout para prevenir sobreajuste\n",
        "            nn.Linear(64, 32),  # Capa oculta con 32 neuronas\n",
        "            nn.ReLU(),  # Activación ReLU\n",
        "            nn.Dropout(0.2),  # Dropout\n",
        "            nn.Linear(32, 1),  # Capa de salida con una neurona\n",
        "            nn.Sigmoid()  # Activación sigmoide para salida binaria\n",
        "        )\n",
        "\n",
        "    def forward(self, x):\n",
        "        return self.model(x)  # Definir la propagación hacia adelante\n",
        "\n",
        "# Crear una instancia del modelo\n",
        "model = FraudDetectionModel()\n",
        "\n",
        "# Definir la función de pérdida y el optimizador\n",
        "criterion = nn.BCELoss()  # Pérdida de entropía cruzada binaria\n",
        "optimizer = torch.optim.Adam(model.parameters(), lr=0.001)  # Optimizador Adam"
      ],
      "metadata": {
        "id": "7XAM9hqg_UKi"
      },
      "execution_count": 12,
      "outputs": []
    },
    {
      "cell_type": "markdown",
      "source": [
        "## b.- Entrenamiento de Modelo, seteo de epocas y visualizacion de la perdida de entrenamiento."
      ],
      "metadata": {
        "id": "PDO0TwlK_UaM"
      }
    },
    {
      "cell_type": "code",
      "source": [
        "# Entrenar el modelo\n",
        "num_epochs = 10  # Número de épocas\n",
        "train_losses = []  # Lista para guardar las pérdidas por época\n",
        "for epoch in range(num_epochs):\n",
        "    model.train()  # Modo de entrenamiento\n",
        "    running_loss = 0.0  # Inicializar la pérdida acumulada\n",
        "    for features, labels in train_loader:  # Iterar sobre los lotes de datos\n",
        "        outputs = model(features)  # Propagación hacia adelante\n",
        "        loss = criterion(outputs.view(-1), labels)  # Calcular pérdida\n",
        "        optimizer.zero_grad()  # Limpiar gradientes\n",
        "        loss.backward()  # Backpropagation\n",
        "        optimizer.step()  # Actualizar pesos\n",
        "        running_loss += loss.item()  # Acumular pérdida\n",
        "    epoch_loss = running_loss / len(train_loader)  # Promediar la pérdida\n",
        "    train_losses.append(epoch_loss)  # Guardar la pérdida de la época\n",
        "    print(f\"Época [{epoch+1}/{num_epochs}], Pérdida de Entrenamiento: {epoch_loss:.4f}\")\n",
        "\n",
        "# Visualizar la pérdida de entrenamiento\n",
        "plt.plot(range(1, num_epochs + 1), train_losses, marker='o')  # Crear gráfica de la pérdida\n",
        "plt.title('Pérdida de Entrenamiento por Época')  # Título\n",
        "plt.xlabel('Época')  # Etiqueta del eje X\n",
        "plt.ylabel('Pérdida')  # Etiqueta del eje Y\n",
        "plt.show()  # Mostrar gráfico"
      ],
      "metadata": {
        "colab": {
          "base_uri": "https://localhost:8080/",
          "height": 655
        },
        "id": "iUTYsfdW_UnZ",
        "outputId": "be69fac6-96b2-4349-b960-16f40836c4c2"
      },
      "execution_count": 13,
      "outputs": [
        {
          "output_type": "stream",
          "name": "stdout",
          "text": [
            "Época [1/10], Pérdida de Entrenamiento: 0.0386\n",
            "Época [2/10], Pérdida de Entrenamiento: 0.0304\n",
            "Época [3/10], Pérdida de Entrenamiento: 0.0284\n",
            "Época [4/10], Pérdida de Entrenamiento: 0.0272\n",
            "Época [5/10], Pérdida de Entrenamiento: 0.0269\n",
            "Época [6/10], Pérdida de Entrenamiento: 0.0266\n",
            "Época [7/10], Pérdida de Entrenamiento: 0.0252\n",
            "Época [8/10], Pérdida de Entrenamiento: 0.0248\n",
            "Época [9/10], Pérdida de Entrenamiento: 0.0246\n",
            "Época [10/10], Pérdida de Entrenamiento: 0.0256\n"
          ]
        },
        {
          "output_type": "display_data",
          "data": {
            "text/plain": [
              "<Figure size 640x480 with 1 Axes>"
            ],
            "image/png": "[encoded data removed]"
          },
          "metadata": {}
        }
      ]
    },
    {
      "cell_type": "markdown",
      "source": [
        "# *8. Evaluación del Modelo PyTorch*\n",
        "Evaluamos el modelo entrenado y mostramos las métricas de rendimiento."
      ],
      "metadata": {
        "id": "Brh66fXV6oMi"
      }
    },
    {
      "cell_type": "code",
      "source": [
        "# Cambiar el modelo al modo de evaluación (desactiva dropout y batch normalization)\n",
        "model.eval()\n",
        "\n",
        "# Inicializar listas para almacenar las predicciones y etiquetas reales\n",
        "all_preds = []  # Lista para las predicciones del modelo\n",
        "all_labels = []  # Lista para las etiquetas reales\n",
        "\n",
        "# Desactivar el cálculo de gradientes (reduce el uso de memoria y acelera el proceso)\n",
        "with torch.no_grad():\n",
        "    # Iterar sobre el DataLoader del conjunto de prueba\n",
        "    for features, labels in test_loader:\n",
        "        # Realizar la predicción\n",
        "        outputs = model(features)  # Salidas del modelo\n",
        "        # Convertir las probabilidades a etiquetas binarias (0 o 1) usando un umbral de 0.5\n",
        "        preds = (outputs.view(-1) > 0.5).float()\n",
        "        # Agregar las predicciones y etiquetas reales a las listas\n",
        "        all_preds.extend(preds.numpy())\n",
        "        all_labels.extend(labels.numpy())\n",
        "\n",
        "# Generar el reporte de clasificación para evaluar el rendimiento del modelo\n",
        "print(\"\\nReporte de clasificación del modelo PyTorch:\")\n",
        "print(classification_report(all_labels, all_preds))\n",
        "\n",
        "# Crear y visualizar la matriz de confusión\n",
        "# Esto ayuda a identificar los verdaderos positivos, verdaderos negativos, falsos positivos y falsos negativos\n",
        "cm = confusion_matrix(all_labels, all_preds)\n",
        "\n",
        "# Visualización de la matriz de confusión como un mapa de calor\n",
        "sns.heatmap(cm, annot=True, fmt=\"d\", cmap=\"Blues\")\n",
        "plt.title(\"Matriz de Confusión: PyTorch\")\n",
        "plt.xlabel(\"Predicciones\")  # Etiqueta del eje X\n",
        "plt.ylabel(\"Valores Reales\")  # Etiqueta del eje Y\n",
        "plt.show()\n"
      ],
      "metadata": {
        "id": "MTGGeRyU6oTx",
        "colab": {
          "base_uri": "https://localhost:8080/",
          "height": 668
        },
        "outputId": "e7052ecb-faa5-4e0c-ed34-dddf09eab4ce"
      },
      "execution_count": 14,
      "outputs": [
        {
          "output_type": "stream",
          "name": "stdout",
          "text": [
            "\n",
            "Reporte de clasificación del modelo PyTorch:\n",
            "              precision    recall  f1-score   support\n",
            "\n",
            "         0.0       1.00      1.00      1.00   1270882\n",
            "         1.0       1.00      1.00      1.00   1270881\n",
            "\n",
            "    accuracy                           1.00   2541763\n",
            "   macro avg       1.00      1.00      1.00   2541763\n",
            "weighted avg       1.00      1.00      1.00   2541763\n",
            "\n"
          ]
        },
        {
          "output_type": "display_data",
          "data": {
            "text/plain": [
              "<Figure size 640x480 with 2 Axes>"
            ],
            "image/png": "[encoded data removed]"
          },
          "metadata": {}
        }
      ]
    },
    {
      "cell_type": "markdown",
      "source": [],
      "metadata": {
        "id": "loUzwP8E6oay"
      }
    },
    {
      "cell_type": "code",
      "source": [],
      "metadata": {
        "id": "LU48aBid6oiM"
      },
      "execution_count": 14,
      "outputs": []
    }
  ],
  "metadata": {
    "colab": {
      "provenance": [],
      "authorship_tag": "ABX9TyMQyP0A8PYJePVAudm9igyy",
      "include_colab_link": true
    },
    "kernelspec": {
      "display_name": "Python 3",
      "name": "python3"
    },
    "language_info": {
      "name": "python"
    }
  },
  "nbformat": 4,
  "nbformat_minor": 0
}